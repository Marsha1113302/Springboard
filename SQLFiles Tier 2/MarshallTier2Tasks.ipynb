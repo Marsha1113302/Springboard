{
 "cells": [
  {
   "cell_type": "code",
   "execution_count": 17,
   "id": "4359b236",
   "metadata": {},
   "outputs": [],
   "source": [
    "import sqlite3\n",
    "from sqlite3 import Error\n",
    "from sqlalchemy import create_engine\n",
    "import pandas as pd\n",
    "import pymysql.cursors"
   ]
  },
  {
   "cell_type": "code",
   "execution_count": 49,
   "id": "1ef6d4a9",
   "metadata": {},
   "outputs": [],
   "source": [
    "db_file = 'sqlite_db_pythonsqlite.db'"
   ]
  },
  {
   "cell_type": "code",
   "execution_count": 46,
   "id": "5961e12f",
   "metadata": {},
   "outputs": [
    {
     "name": "stdout",
     "output_type": "stream",
     "text": [
      "2.6.0\n",
      "2. Query all tasks\n",
      "(0, 'Tennis Court 1', 5, 25, 10000, 200)\n",
      "(1, 'Tennis Court 2', 5, 25, 8000, 200)\n",
      "(2, 'Badminton Court', 0, 15.5, 4000, 50)\n",
      "(3, 'Table Tennis', 0, 5, 320, 10)\n",
      "(4, 'Massage Room 1', 9.9, 80, 4000, 3000)\n",
      "(5, 'Massage Room 2', 9.9, 80, 4000, 3000)\n",
      "(6, 'Squash Court', 3.5, 17.5, 5000, 80)\n",
      "(7, 'Snooker Table', 0, 5, 450, 15)\n",
      "(8, 'Pool Table', 0, 5, 400, 15)\n"
     ]
    }
   ],
   "source": [
    "def create_connection(db_file):\n",
    "    \"\"\" create a database connection to the SQLite database\n",
    "        specified by the db_file\n",
    "    :param db_file: database file\n",
    "    :return: Connection object or None\n",
    "    \"\"\"\n",
    "    conn = None\n",
    "    try:\n",
    "        conn = sqlite3.connect(db_file)\n",
    "        print(sqlite3.version)\n",
    "    except Error as e:\n",
    "        print(e)\n",
    " \n",
    "    return conn\n",
    "\n",
    "def create_connection2(db_file):\n",
    "    engine = create_engine(db_file)\n",
    "    conn = engine.connect()\n",
    "    return conn\n",
    "\n",
    "def get_tables(db_file):\n",
    "    engine = create_engine(db_file)\n",
    "    table_names = engine.table_names()\n",
    "    print(table_names)\n",
    "\n",
    "def get_data(db_file, sql):\n",
    "    conn = sqlite3.connect(db_file)\n",
    "    cur = conn.cursor()\n",
    "    cur.execute(sql)\n",
    "    data = cur.fetchall()\n",
    "    headers = [i[0] for i in cur.description]\n",
    "    print(headers)\n",
    "    for row in data:\n",
    "        print(row)\n",
    " \n",
    "def select_all_tasks(conn):\n",
    "    \"\"\"\n",
    "    Query all rows in the tasks table\n",
    "    :param conn: the Connection object\n",
    "    :return:\n",
    "    \"\"\"\n",
    "    cur = conn.cursor()\n",
    "    \n",
    "    query1 = \"\"\"\n",
    "        SELECT *\n",
    "        FROM FACILITIES\n",
    "        \"\"\"\n",
    "    cur.execute(query1)\n",
    " \n",
    "    rows = cur.fetchall()\n",
    " \n",
    "    for row in rows:\n",
    "        print(row)\n",
    "\n",
    "\n",
    "def main():\n",
    "    database = \"sqlite_db_pythonsqlite.db\"\n",
    " \n",
    "    # create a database connection\n",
    "    conn = create_connection(database)\n",
    "    with conn: \n",
    "        print(\"2. Query all tasks\")\n",
    "        select_all_tasks(conn)\n",
    " \n",
    " \n",
    "if __name__ == '__main__':\n",
    "    main()"
   ]
  },
  {
   "cell_type": "code",
   "execution_count": 53,
   "id": "2391433d",
   "metadata": {},
   "outputs": [
    {
     "name": "stdout",
     "output_type": "stream",
     "text": [
      "['name']\n",
      "('Badminton Court',)\n",
      "('Table Tennis',)\n",
      "('Snooker Table',)\n",
      "('Pool Table',)\n"
     ]
    }
   ],
   "source": [
    "# Q1\n",
    "\n",
    "get_data(db_file, \"SELECT name FROM FACILITIES WHERE membercost = 0\")"
   ]
  },
  {
   "cell_type": "code",
   "execution_count": 57,
   "id": "497347d6",
   "metadata": {},
   "outputs": [
    {
     "name": "stdout",
     "output_type": "stream",
     "text": [
      "['facilities']\n",
      "(4,)\n"
     ]
    }
   ],
   "source": [
    "# Q2\n",
    "\n",
    "get_data(db_file, \"SELECT COUNT(DISTINCT name) as facilities FROM FACILITIES where membercost = 0\")"
   ]
  },
  {
   "cell_type": "code",
   "execution_count": 60,
   "id": "f57554f3",
   "metadata": {},
   "outputs": [
    {
     "name": "stdout",
     "output_type": "stream",
     "text": [
      "['facid', 'name', 'membercost', 'monthlymaintenance']\n",
      "(0, 'Tennis Court 1', 5, 200)\n",
      "(1, 'Tennis Court 2', 5, 200)\n",
      "(2, 'Badminton Court', 0, 50)\n",
      "(3, 'Table Tennis', 0, 10)\n",
      "(4, 'Massage Room 1', 9.9, 3000)\n",
      "(5, 'Massage Room 2', 9.9, 3000)\n",
      "(6, 'Squash Court', 3.5, 80)\n",
      "(7, 'Snooker Table', 0, 15)\n",
      "(8, 'Pool Table', 0, 15)\n"
     ]
    }
   ],
   "source": [
    "# Q3\n",
    "\n",
    "get_data(db_file, \"SELECT facid, name, membercost, monthlymaintenance FROM FACILITIES WHERE membercost < (monthlymaintenance * 0.2)\")"
   ]
  },
  {
   "cell_type": "code",
   "execution_count": 65,
   "id": "43f9ebce",
   "metadata": {},
   "outputs": [
    {
     "name": "stdout",
     "output_type": "stream",
     "text": [
      "['facid', 'name', 'membercost', 'guestcost', 'initialoutlay', 'monthlymaintenance']\n",
      "(1, 'Tennis Court 2', 5, 25, 8000, 200)\n",
      "(5, 'Massage Room 2', 9.9, 80, 4000, 3000)\n"
     ]
    }
   ],
   "source": [
    "# Q4\n",
    "\n",
    "get_data(db_file, \"SELECT * FROM FACILITIES WHERE facid In (1,5)\")"
   ]
  },
  {
   "cell_type": "code",
   "execution_count": 68,
   "id": "4fec07ba",
   "metadata": {},
   "outputs": [
    {
     "name": "stdout",
     "output_type": "stream",
     "text": [
      "['name', 'monthlymaintenance', 'label']\n",
      "('Tennis Court 1', 200, 'expensive')\n",
      "('Tennis Court 2', 200, 'expensive')\n",
      "('Badminton Court', 50, 'cheap')\n",
      "('Table Tennis', 10, 'cheap')\n",
      "('Massage Room 1', 3000, 'expensive')\n",
      "('Massage Room 2', 3000, 'expensive')\n",
      "('Squash Court', 80, 'cheap')\n",
      "('Snooker Table', 15, 'cheap')\n",
      "('Pool Table', 15, 'cheap')\n"
     ]
    }
   ],
   "source": [
    "# Q5\n",
    "\n",
    "get_data(db_file, \"SELECT name, monthlymaintenance, CASE WHEN monthlymaintenance > 100 then 'expensive' ELSE 'cheap' END as label FROM FACILITIES\")"
   ]
  },
  {
   "cell_type": "code",
   "execution_count": 74,
   "id": "f5d2475d",
   "metadata": {},
   "outputs": [
    {
     "name": "stdout",
     "output_type": "stream",
     "text": [
      "['firstname', 'surname']\n",
      "('Darren', 'Smith')\n"
     ]
    }
   ],
   "source": [
    "# Q6\n",
    "\n",
    "get_data(db_file, \"with cte as (SELECT *, ROW_NUMBER() OVER(ORDER BY joindate DESC) rn FROM members) SELECT firstname, surname FROM cte WHERE rn = 1 \")"
   ]
  },
  {
   "cell_type": "code",
   "execution_count": 82,
   "id": "22c8fd23",
   "metadata": {},
   "outputs": [
    {
     "name": "stdout",
     "output_type": "stream",
     "text": [
      "['name', 'memname']\n",
      "('Badminton Court', 'Anna Mackenzie')\n",
      "('Tennis Court 1', 'Anne Baker')\n",
      "('Tennis Court 2', 'Burton Tracy')\n",
      "('Tennis Court 1', 'Charles Owen')\n",
      "('Table Tennis', 'Darren Smith')\n",
      "('Tennis Court 1', 'David Farrell')\n",
      "('Tennis Court 2', 'David Jones')\n",
      "('Snooker Table', 'David Pinker')\n",
      "('Badminton Court', 'Douglas Jones')\n",
      "('Badminton Court', 'Erica Crumpet')\n",
      "('Badminton Court', 'Florence Bader')\n",
      "('Squash Court', 'GUEST GUEST')\n",
      "('Tennis Court 1', 'Gerald Butters')\n",
      "('Snooker Table', 'Henrietta Rumney')\n",
      "('Badminton Court', 'Henry Worthington-Smyth')\n",
      "('Snooker Table', 'Hyacinth Tupperware')\n",
      "('Massage Room 1', 'Jack Smith')\n",
      "('Massage Room 1', 'Janice Joplette')\n",
      "('Table Tennis', 'Jemima Farrell')\n",
      "('Snooker Table', 'Joan Coplin')\n",
      "('Tennis Court 1', 'John Hunt')\n",
      "('Massage Room 2', 'Matthew Genting')\n",
      "('Badminton Court', 'Millicent Purview')\n",
      "('Badminton Court', 'Nancy Dare')\n",
      "('Tennis Court 2', 'Ponder Stibbons')\n",
      "('Tennis Court 2', 'Ramnaresh Sarwin')\n",
      "('Tennis Court 2', 'Tim Boothe')\n",
      "('Massage Room 1', 'Tim Rownam')\n",
      "('Tennis Court 2', 'Timothy Baker')\n",
      "('Tennis Court 1', 'Tracy Smith')\n"
     ]
    }
   ],
   "source": [
    "# Q7 \n",
    "\n",
    "get_data(db_file, \"SELECT facilities.name, firstname || ' ' || surname as memname  FROM members JOIN bookings ON members.memid = bookings.memid JOIN facilities ON bookings.facid = facilities.facid GROUP BY members.memid ORDER BY memname\")"
   ]
  },
  {
   "cell_type": "code",
   "execution_count": 101,
   "id": "76ecbee8",
   "metadata": {},
   "outputs": [
    {
     "name": "stdout",
     "output_type": "stream",
     "text": [
      "['name', 'memname', 'cost']\n",
      "('Massage Room 2', 'GUEST GUEST', 320)\n",
      "('Massage Room 1', 'GUEST GUEST', 160)\n",
      "('Massage Room 1', 'GUEST GUEST', 160)\n",
      "('Massage Room 1', 'GUEST GUEST', 160)\n",
      "('Tennis Court 2', 'GUEST GUEST', 150)\n",
      "('Tennis Court 1', 'GUEST GUEST', 75)\n",
      "('Tennis Court 1', 'GUEST GUEST', 75)\n",
      "('Tennis Court 2', 'GUEST GUEST', 75)\n",
      "('Squash Court', 'GUEST GUEST', 70.0)\n",
      "('Massage Room 1', 'Jemima Farrell', 39.6)\n",
      "('Squash Court', 'GUEST GUEST', 35.0)\n",
      "('Squash Court', 'GUEST GUEST', 35.0)\n"
     ]
    }
   ],
   "source": [
    "# Q8\n",
    "\n",
    "get_data(db_file, \"SELECT name, firstname || ' ' || surname as memname, (CASE WHEN bookings.memid = 0 THEN guestcost*slots ELSE membercost*slots END) as cost FROM members JOIN bookings ON members.memid = bookings.memid JOIN facilities ON bookings.facid = facilities.facid where date(starttime) = '2012-09-14' AND cost > 30 GROUP BY bookid ORDER BY cost desc\")"
   ]
  },
  {
   "cell_type": "code",
   "execution_count": 103,
   "id": "5ffbb5d2",
   "metadata": {},
   "outputs": [
    {
     "name": "stdout",
     "output_type": "stream",
     "text": [
      "['name', 'memname', 'cost']\n",
      "('Massage Room 2', 'GUEST GUEST', 320)\n",
      "('Massage Room 1', 'GUEST GUEST', 160)\n",
      "('Massage Room 1', 'GUEST GUEST', 160)\n",
      "('Massage Room 1', 'GUEST GUEST', 160)\n",
      "('Tennis Court 2', 'GUEST GUEST', 150)\n",
      "('Tennis Court 1', 'GUEST GUEST', 75)\n",
      "('Tennis Court 1', 'GUEST GUEST', 75)\n",
      "('Tennis Court 2', 'GUEST GUEST', 75)\n",
      "('Squash Court', 'GUEST GUEST', 70.0)\n",
      "('Massage Room 1', 'Jemima Farrell', 39.6)\n",
      "('Squash Court', 'GUEST GUEST', 35.0)\n",
      "('Squash Court', 'GUEST GUEST', 35.0)\n"
     ]
    }
   ],
   "source": [
    "#Q9 \n",
    "\n",
    "get_data(db_file, \"SELECT name, memname, cost FROM (SELECT date(starttime) as date, name, firstname || ' ' || surname as memname, (CASE WHEN bookings.memid = 0 THEN guestcost*slots ELSE membercost*slots END) as cost FROM members JOIN bookings ON members.memid = bookings.memid JOIN facilities ON bookings.facid = facilities.facid GROUP BY bookid) cte WHERE date = '2012-09-14' AND cost > 30 ORDER BY  cost desc\")"
   ]
  },
  {
   "cell_type": "code",
   "execution_count": null,
   "id": "840776a5",
   "metadata": {},
   "outputs": [],
   "source": [
    "#Q10 \n",
    "\n",
    "get_data(db_file, \"SELECT name, (CASE WHEN bookings.memid = 0 THEN guestcost*slots ELSE membercost*slots END) as tot_revenue FROM members JOIN bookings ON members.memid = bookings.memid JOIN facilities ON bookings.facid = facilities.facid WHERE tot"
   ]
  },
  {
   "cell_type": "code",
   "execution_count": 117,
   "id": "ec779ac8",
   "metadata": {},
   "outputs": [
    {
     "name": "stdout",
     "output_type": "stream",
     "text": [
      "['name', 'tot_revenue']\n",
      "('Pool Table', 270)\n",
      "('Snooker Table', 240)\n",
      "('Table Tennis', 180)\n"
     ]
    }
   ],
   "source": [
    "#Q10 \n",
    "\n",
    "get_data(db_file, \"SELECT name, tot_revenue FROM (SELECT name, SUM(CASE WHEN bookings.memid = 0 THEN guestcost*slots ELSE membercost*slots END) as tot_revenue FROM members JOIN bookings ON members.memid = bookings.memid JOIN facilities ON bookings.facid = facilities.facid GROUP BY 1) cte WHERE tot_revenue < 1000\")"
   ]
  },
  {
   "cell_type": "code",
   "execution_count": 119,
   "id": "552d7180",
   "metadata": {},
   "outputs": [
    {
     "name": "stdout",
     "output_type": "stream",
     "text": [
      "['memid', 'surname', 'firstname', 'recommendedby']\n",
      "(4, 'Joplette', 'Janice', 'Darren Smith')\n",
      "(5, 'Butters', 'Gerald', 'Darren Smith')\n",
      "(7, 'Dare', 'Nancy', 'Janice Joplette')\n",
      "(8, 'Boothe', 'Tim', 'Tim Rownam')\n",
      "(9, 'Stibbons', 'Ponder', 'Burton Tracy')\n",
      "(10, 'Owen', 'Charles', 'Darren Smith')\n",
      "(11, 'Jones', 'David', 'Janice Joplette')\n",
      "(12, 'Baker', 'Anne', 'Ponder Stibbons')\n",
      "(14, 'Smith', 'Jack', 'Darren Smith')\n",
      "(15, 'Bader', 'Florence', 'Ponder Stibbons')\n",
      "(16, 'Baker', 'Timothy', 'Jemima Farrell')\n",
      "(17, 'Pinker', 'David', 'Jemima Farrell')\n",
      "(20, 'Genting', 'Matthew', 'Gerald Butters')\n",
      "(21, 'Mackenzie', 'Anna', 'Darren Smith')\n",
      "(22, 'Coplin', 'Joan', 'Timothy Baker')\n",
      "(24, 'Sarwin', 'Ramnaresh', 'Florence Bader')\n",
      "(26, 'Jones', 'Douglas', 'David Jones')\n",
      "(27, 'Rumney', 'Henrietta', 'Matthew Genting')\n",
      "(29, 'Worthington-Smyth', 'Henry', 'Tracy Smith')\n",
      "(30, 'Purview', 'Millicent', 'Tracy Smith')\n",
      "(35, 'Hunt', 'John', 'Millicent Purview')\n",
      "(36, 'Crumpet', 'Erica', 'Tracy Smith')\n"
     ]
    }
   ],
   "source": [
    "#Q11\n",
    "\n",
    "get_data(db_file, \"SELECT m1.memid, m1.surname, m1.firstname, m2.firstname || ' ' || m2.surname as recommendedby FROM members m1 JOIN members m2 ON m2.memid = m1.recommendedby \")"
   ]
  },
  {
   "cell_type": "code",
   "execution_count": 137,
   "id": "f4870ae2",
   "metadata": {
    "scrolled": false
   },
   "outputs": [
    {
     "name": "stdout",
     "output_type": "stream",
     "text": [
      "['memid', 'usage', 'name']\n",
      "(1, 432, 'Badminton Court')\n",
      "(3, 282, 'Pool Table')\n",
      "(3, 176, 'Massage Room 1')\n",
      "(5, 171, 'Tennis Court 1')\n",
      "(8, 168, 'Tennis Court 2')\n",
      "(3, 150, 'Table Tennis')\n",
      "(4, 142, 'Snooker Table')\n",
      "(10, 141, 'Tennis Court 2')\n",
      "(12, 114, 'Tennis Court 2')\n",
      "(12, 110, 'Squash Court')\n",
      "(2, 102, 'Badminton Court')\n",
      "(11, 99, 'Tennis Court 2')\n",
      "(9, 96, 'Tennis Court 2')\n",
      "(21, 96, 'Badminton Court')\n",
      "(16, 95, 'Pool Table')\n",
      "(2, 93, 'Tennis Court 1')\n",
      "(6, 93, 'Tennis Court 1')\n",
      "(2, 90, 'Snooker Table')\n",
      "(8, 90, 'Snooker Table')\n",
      "(15, 86, 'Table Tennis')\n",
      "(11, 84, 'Tennis Court 1')\n",
      "(21, 83, 'Pool Table')\n",
      "(7, 81, 'Tennis Court 1')\n",
      "(6, 78, 'Squash Court')\n",
      "(8, 76, 'Massage Room 1')\n",
      "(14, 75, 'Tennis Court 1')\n",
      "(5, 72, 'Snooker Table')\n",
      "(13, 68, 'Massage Room 1')\n",
      "(5, 66, 'Massage Room 1')\n",
      "(15, 66, 'Snooker Table')\n",
      "(2, 64, 'Pool Table')\n",
      "(5, 63, 'Badminton Court')\n",
      "(6, 62, 'Massage Room 1')\n",
      "(1, 58, 'Massage Room 1')\n",
      "(1, 57, 'Tennis Court 2')\n",
      "(4, 57, 'Tennis Court 1')\n",
      "(1, 56, 'Table Tennis')\n",
      "(2, 56, 'Table Tennis')\n",
      "(14, 54, 'Massage Room 1')\n",
      "(20, 54, 'Table Tennis')\n",
      "(20, 52, 'Massage Room 1')\n",
      "(10, 51, 'Tennis Court 1')\n",
      "(17, 51, 'Tennis Court 1')\n",
      "(10, 50, 'Table Tennis')\n",
      "(16, 50, 'Massage Room 1')\n",
      "(6, 48, 'Table Tennis')\n",
      "(9, 48, 'Badminton Court')\n",
      "(16, 48, 'Table Tennis')\n",
      "(7, 46, 'Snooker Table')\n",
      "(22, 46, 'Table Tennis')\n",
      "(16, 45, 'Tennis Court 1')\n",
      "(10, 44, 'Snooker Table')\n",
      "(13, 44, 'Snooker Table')\n",
      "(6, 40, 'Snooker Table')\n",
      "(9, 40, 'Massage Room 1')\n",
      "(9, 40, 'Snooker Table')\n",
      "(11, 40, 'Massage Room 1')\n",
      "(7, 38, 'Massage Room 1')\n",
      "(29, 37, 'Pool Table')\n",
      "(8, 36, 'Badminton Court')\n",
      "(14, 36, 'Badminton Court')\n",
      "(24, 36, 'Snooker Table')\n",
      "(24, 36, 'Tennis Court 2')\n",
      "(17, 34, 'Table Tennis')\n",
      "(7, 33, 'Tennis Court 2')\n",
      "(17, 32, 'Snooker Table')\n",
      "(21, 32, 'Table Tennis')\n",
      "(1, 30, 'Squash Court')\n",
      "(4, 30, 'Squash Court')\n",
      "(6, 30, 'Pool Table')\n",
      "(7, 30, 'Badminton Court')\n",
      "(12, 30, 'Badminton Court')\n",
      "(1, 28, 'Pool Table')\n",
      "(27, 28, 'Snooker Table')\n",
      "(4, 27, 'Pool Table')\n",
      "(15, 27, 'Badminton Court')\n",
      "(26, 27, 'Tennis Court 1')\n",
      "(8, 26, 'Pool Table')\n",
      "(28, 25, 'Pool Table')\n",
      "(1, 24, 'Snooker Table')\n",
      "(4, 24, 'Massage Room 1')\n",
      "(4, 24, 'Tennis Court 2')\n",
      "(8, 24, 'Squash Court')\n",
      "(11, 24, 'Badminton Court')\n",
      "(13, 24, 'Table Tennis')\n",
      "(15, 24, 'Tennis Court 2')\n",
      "(15, 23, 'Pool Table')\n",
      "(10, 22, 'Massage Room 1')\n",
      "(11, 22, 'Table Tennis')\n",
      "(14, 22, 'Squash Court')\n",
      "(13, 21, 'Badminton Court')\n",
      "(16, 21, 'Badminton Court')\n",
      "(16, 21, 'Tennis Court 2')\n",
      "(17, 21, 'Badminton Court')\n",
      "(22, 21, 'Tennis Court 1')\n",
      "(24, 21, 'Badminton Court')\n",
      "(22, 20, 'Snooker Table')\n",
      "(7, 19, 'Pool Table')\n",
      "(3, 18, 'Tennis Court 1')\n",
      "(3, 18, 'Tennis Court 2')\n",
      "(4, 18, 'Table Tennis')\n",
      "(5, 18, 'Squash Court')\n",
      "(10, 18, 'Badminton Court')\n",
      "(12, 18, 'Tennis Court 1')\n",
      "(20, 18, 'Pool Table')\n",
      "(28, 18, 'Tennis Court 1')\n",
      "(11, 16, 'Squash Court')\n",
      "(13, 16, 'Squash Court')\n",
      "(24, 16, 'Massage Room 1')\n",
      "(24, 15, 'Tennis Court 1')\n",
      "(29, 15, 'Badminton Court')\n",
      "(10, 14, 'Squash Court')\n",
      "(21, 14, 'Snooker Table')\n",
      "(30, 14, 'Table Tennis')\n",
      "(24, 13, 'Pool Table')\n",
      "(2, 12, 'Massage Room 1')\n",
      "(2, 12, 'Squash Court')\n",
      "(3, 12, 'Badminton Court')\n",
      "(8, 12, 'Tennis Court 1')\n",
      "(9, 12, 'Pool Table')\n",
      "(12, 12, 'Pool Table')\n",
      "(33, 12, 'Snooker Table')\n",
      "(35, 12, 'Tennis Court 1')\n",
      "(35, 12, 'Tennis Court 2')\n",
      "(22, 11, 'Pool Table')\n",
      "(7, 10, 'Massage Room 2')\n",
      "(7, 10, 'Table Tennis')\n",
      "(14, 10, 'Snooker Table')\n",
      "(14, 10, 'Table Tennis')\n",
      "(16, 10, 'Squash Court')\n",
      "(5, 9, 'Tennis Court 2')\n",
      "(6, 9, 'Tennis Court 2')\n",
      "(17, 9, 'Pool Table')\n",
      "(33, 9, 'Pool Table')\n",
      "(8, 8, 'Table Tennis')\n",
      "(11, 8, 'Massage Room 2')\n",
      "(11, 8, 'Pool Table')\n",
      "(14, 7, 'Pool Table')\n",
      "(2, 6, 'Tennis Court 2')\n",
      "(5, 6, 'Pool Table')\n",
      "(6, 6, 'Badminton Court')\n",
      "(9, 6, 'Table Tennis')\n",
      "(12, 6, 'Massage Room 1')\n",
      "(17, 6, 'Massage Room 1')\n",
      "(17, 6, 'Squash Court')\n",
      "(24, 6, 'Massage Room 2')\n",
      "(24, 6, 'Table Tennis')\n",
      "(26, 6, 'Badminton Court')\n",
      "(29, 6, 'Table Tennis')\n",
      "(30, 6, 'Badminton Court')\n",
      "(35, 6, 'Badminton Court')\n",
      "(35, 6, 'Massage Room 1')\n",
      "(36, 6, 'Badminton Court')\n",
      "(30, 5, 'Pool Table')\n",
      "(3, 4, 'Massage Room 2')\n",
      "(4, 4, 'Massage Room 2')\n",
      "(9, 4, 'Squash Court')\n",
      "(10, 4, 'Massage Room 2')\n",
      "(11, 4, 'Snooker Table')\n",
      "(12, 4, 'Massage Room 2')\n",
      "(15, 4, 'Massage Room 2')\n",
      "(15, 4, 'Squash Court')\n",
      "(21, 4, 'Squash Court')\n",
      "(22, 4, 'Massage Room 2')\n",
      "(24, 4, 'Squash Court')\n",
      "(27, 4, 'Squash Court')\n",
      "(36, 4, 'Massage Room 1')\n",
      "(36, 4, 'Table Tennis')\n",
      "(9, 3, 'Tennis Court 1')\n",
      "(13, 3, 'Tennis Court 1')\n",
      "(13, 3, 'Tennis Court 2')\n",
      "(14, 3, 'Tennis Court 2')\n",
      "(15, 3, 'Tennis Court 1')\n",
      "(20, 3, 'Tennis Court 1')\n",
      "(27, 3, 'Pool Table')\n",
      "(27, 3, 'Tennis Court 2')\n",
      "(28, 3, 'Tennis Court 2')\n",
      "(30, 3, 'Tennis Court 2')\n",
      "(33, 3, 'Badminton Court')\n",
      "(36, 3, 'Tennis Court 1')\n",
      "(5, 2, 'Massage Room 2')\n",
      "(5, 2, 'Table Tennis')\n",
      "(12, 2, 'Table Tennis')\n",
      "(14, 2, 'Massage Room 2')\n",
      "(20, 2, 'Massage Room 2')\n",
      "(20, 2, 'Snooker Table')\n",
      "(21, 2, 'Massage Room 1')\n",
      "(22, 2, 'Massage Room 1')\n",
      "(22, 2, 'Squash Court')\n",
      "(26, 2, 'Pool Table')\n",
      "(26, 2, 'Squash Court')\n",
      "(28, 2, 'Snooker Table')\n",
      "(28, 2, 'Squash Court')\n",
      "(29, 2, 'Massage Room 1')\n",
      "(30, 2, 'Snooker Table')\n",
      "(30, 2, 'Squash Court')\n",
      "(33, 2, 'Massage Room 1')\n",
      "(33, 2, 'Squash Court')\n",
      "(35, 2, 'Squash Court')\n",
      "(35, 2, 'Table Tennis')\n",
      "(10, 1, 'Pool Table')\n",
      "(13, 1, 'Pool Table')\n"
     ]
    }
   ],
   "source": [
    "# Q12 \n",
    "\n",
    "get_data(db_file, \"SELECT memid, SUM(slots) as usage, name FROM (SELECT name, bookings.memid as memid, slots FROM members JOIN bookings ON members.memid = bookings.memid JOIN facilities ON bookings.facid = facilities.facid WHERE bookings.memid IS NOT 0) cte GROUP BY 1,3 ORDER BY 2 DESC\")"
   ]
  },
  {
   "cell_type": "code",
   "execution_count": 146,
   "id": "51a42a75",
   "metadata": {},
   "outputs": [
    {
     "name": "stdout",
     "output_type": "stream",
     "text": [
      "['month', 'usage', 'name']\n",
      "('09', 507, 'Badminton Court')\n",
      "('09', 443, 'Pool Table')\n",
      "('09', 417, 'Tennis Court 1')\n",
      "('08', 414, 'Badminton Court')\n",
      "('09', 414, 'Tennis Court 2')\n",
      "('09', 404, 'Snooker Table')\n",
      "('09', 402, 'Massage Room 1')\n",
      "('09', 400, 'Table Tennis')\n",
      "('08', 345, 'Tennis Court 2')\n",
      "('08', 339, 'Tennis Court 1')\n",
      "('08', 316, 'Massage Room 1')\n",
      "('08', 316, 'Snooker Table')\n",
      "('08', 303, 'Pool Table')\n",
      "('08', 296, 'Table Tennis')\n",
      "('07', 201, 'Tennis Court 1')\n",
      "('08', 184, 'Squash Court')\n",
      "('09', 184, 'Squash Court')\n",
      "('07', 166, 'Massage Room 1')\n",
      "('07', 165, 'Badminton Court')\n",
      "('07', 140, 'Snooker Table')\n",
      "('07', 123, 'Tennis Court 2')\n",
      "('07', 110, 'Pool Table')\n",
      "('07', 98, 'Table Tennis')\n",
      "('07', 50, 'Squash Court')\n",
      "('09', 28, 'Massage Room 2')\n",
      "('08', 18, 'Massage Room 2')\n",
      "('07', 8, 'Massage Room 2')\n"
     ]
    }
   ],
   "source": [
    "get_data(db_file, \"SELECT month, SUM(slots) as usage, name FROM (SELECT name, slots, strftime('%m', starttime)  as month FROM members JOIN bookings ON members.memid = bookings.memid JOIN facilities ON bookings.facid = facilities.facid WHERE bookings.memid IS NOT 0) cte GROUP BY 1,3 ORDER By 2 DESC\")"
   ]
  }
 ],
 "metadata": {
  "kernelspec": {
   "display_name": "Python 3 (ipykernel)",
   "language": "python",
   "name": "python3"
  },
  "language_info": {
   "codemirror_mode": {
    "name": "ipython",
    "version": 3
   },
   "file_extension": ".py",
   "mimetype": "text/x-python",
   "name": "python",
   "nbconvert_exporter": "python",
   "pygments_lexer": "ipython3",
   "version": "3.9.7"
  }
 },
 "nbformat": 4,
 "nbformat_minor": 5
}
