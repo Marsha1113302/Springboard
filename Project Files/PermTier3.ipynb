{
 "cells": [
  {
   "cell_type": "markdown",
   "metadata": {
    "colab_type": "text",
    "id": "i2RUFW7TFcuh"
   },
   "source": [
    "# Springboard Apps project - Tier 3 - Complete\n",
    "\n",
    "Welcome to the Apps project! To give you a taste of your future career, we're going to walk through exactly the kind of notebook that you'd write as a data scientist. In the process, we'll be sure to signpost the general framework for our investigation - the Data Science Pipeline - as well as give reasons for why we're doing what we're doing. We're also going to apply some of the skills and knowledge you've built up in the previous unit when reading Professor Spiegelhalter's *The Art of Statistics* (hereinafter *AoS*). \n",
    "\n",
    "So let's get cracking!\n",
    "\n",
    "**Brief**\n",
    "\n",
    "Did Apple Store apps receive better reviews than Google Play apps?\n",
    "\n",
    "## Stages of the project\n",
    "\n",
    "1. Sourcing and loading \n",
    "    * Load the two datasets\n",
    "    * Pick the columns that we are going to work with \n",
    "    * Subsetting the data on this basis \n",
    " \n",
    " \n",
    "2. Cleaning, transforming and visualizing\n",
    "    * Check the data types and fix them\n",
    "    * Add a `platform` column to both the `Apple` and the `Google` dataframes\n",
    "    * Changing the column names to prepare for a join \n",
    "    * Join the two data sets\n",
    "    * Eliminate the `NaN` values\n",
    "    * Filter only those apps that have been reviewed at least once\n",
    "    * Summarize the data visually and analytically (by the column `platform`)  \n",
    "  \n",
    "  \n",
    "3. Modelling \n",
    "    * Hypothesis formulation\n",
    "    * Getting the distribution of the data\n",
    "    * Permutation test \n",
    "\n",
    "\n",
    "4. Evaluating and concluding \n",
    "    * What is our conclusion?\n",
    "    * What is our decision?\n",
    "    * Other models we could have used. \n",
    "    "
   ]
  },
  {
   "cell_type": "markdown",
   "metadata": {
    "colab_type": "text",
    "id": "QLUAXtl1Fcuk"
   },
   "source": [
    "## Importing the libraries\n",
    "\n",
    "In this case we are going to import pandas, numpy, scipy, random and matplotlib.pyplot"
   ]
  },
  {
   "cell_type": "code",
   "execution_count": 56,
   "metadata": {
    "colab": {},
    "colab_type": "code",
    "id": "XeXJOlGiFcum"
   },
   "outputs": [],
   "source": [
    "import pandas as pd\n",
    "import numpy as np\n",
    "import matplotlib.pyplot as plt\n",
    "# scipi is a library for statistical tests and visualizations \n",
    "from scipy import stats\n",
    "# random enables us to generate random numbers\n",
    "import random"
   ]
  },
  {
   "cell_type": "markdown",
   "metadata": {
    "colab_type": "text",
    "id": "zVD7NlPAFcup"
   },
   "source": [
    "## Stage 1 -  Sourcing and loading data"
   ]
  },
  {
   "cell_type": "markdown",
   "metadata": {
    "colab_type": "text",
    "id": "KU8bdbImFcuq"
   },
   "source": [
    "### 1a. Source and load the data\n",
    "Let's download the data from Kaggle. Kaggle is a fantastic resource: a kind of social medium for data scientists, it boasts projects, datasets and news on the freshest libraries and technologies all in one place. The data from the Apple Store can be found [here](https://www.kaggle.com/ramamet4/app-store-apple-data-set-10k-apps) and the data from Google Store can be found [here](https://www.kaggle.com/lava18/google-play-store-apps).\n",
    "Download the datasets and save them in your working directory."
   ]
  },
  {
   "cell_type": "code",
   "execution_count": 57,
   "metadata": {
    "colab": {},
    "colab_type": "code",
    "id": "laM1PB76Fcur"
   },
   "outputs": [
    {
     "data": {
      "text/plain": [
       "(10841, 13)"
      ]
     },
     "execution_count": 57,
     "metadata": {},
     "output_type": "execute_result"
    }
   ],
   "source": [
    "# Now that the files are saved, we want to load them into Python using read_csv and pandas.\n",
    "\n",
    "# Create a variable called google, and store in it the path of the csv file that contains your google dataset. \n",
    "# If your dataset is in the same folder as this notebook, the path will simply be the name of the file. \n",
    "\n",
    "# Read the csv file into a data frame called Google using the read_csv() pandas method.\n",
    "Google = pd.read_csv('googleplaystore.csv')\n",
    "\n",
    "# Using the head() pandas method, observe the first three entries.\n",
    "Google.head(3)\n",
    "Google.shape"
   ]
  },
  {
   "cell_type": "code",
   "execution_count": 58,
   "metadata": {
    "colab": {},
    "colab_type": "code",
    "id": "3AW8EA1wFcuu"
   },
   "outputs": [
    {
     "data": {
      "text/html": [
       "<div>\n",
       "<style scoped>\n",
       "    .dataframe tbody tr th:only-of-type {\n",
       "        vertical-align: middle;\n",
       "    }\n",
       "\n",
       "    .dataframe tbody tr th {\n",
       "        vertical-align: top;\n",
       "    }\n",
       "\n",
       "    .dataframe thead th {\n",
       "        text-align: right;\n",
       "    }\n",
       "</style>\n",
       "<table border=\"1\" class=\"dataframe\">\n",
       "  <thead>\n",
       "    <tr style=\"text-align: right;\">\n",
       "      <th></th>\n",
       "      <th>Unnamed: 0</th>\n",
       "      <th>id</th>\n",
       "      <th>track_name</th>\n",
       "      <th>size_bytes</th>\n",
       "      <th>currency</th>\n",
       "      <th>price</th>\n",
       "      <th>rating_count_tot</th>\n",
       "      <th>rating_count_ver</th>\n",
       "      <th>user_rating</th>\n",
       "      <th>user_rating_ver</th>\n",
       "      <th>ver</th>\n",
       "      <th>cont_rating</th>\n",
       "      <th>prime_genre</th>\n",
       "      <th>sup_devices.num</th>\n",
       "      <th>ipadSc_urls.num</th>\n",
       "      <th>lang.num</th>\n",
       "      <th>vpp_lic</th>\n",
       "    </tr>\n",
       "  </thead>\n",
       "  <tbody>\n",
       "    <tr>\n",
       "      <th>0</th>\n",
       "      <td>1</td>\n",
       "      <td>281656475</td>\n",
       "      <td>PAC-MAN Premium</td>\n",
       "      <td>100788224</td>\n",
       "      <td>USD</td>\n",
       "      <td>3.99</td>\n",
       "      <td>21292</td>\n",
       "      <td>26</td>\n",
       "      <td>4.0</td>\n",
       "      <td>4.5</td>\n",
       "      <td>6.3.5</td>\n",
       "      <td>4+</td>\n",
       "      <td>Games</td>\n",
       "      <td>38</td>\n",
       "      <td>5</td>\n",
       "      <td>10</td>\n",
       "      <td>1</td>\n",
       "    </tr>\n",
       "    <tr>\n",
       "      <th>1</th>\n",
       "      <td>2</td>\n",
       "      <td>281796108</td>\n",
       "      <td>Evernote - stay organized</td>\n",
       "      <td>158578688</td>\n",
       "      <td>USD</td>\n",
       "      <td>0.00</td>\n",
       "      <td>161065</td>\n",
       "      <td>26</td>\n",
       "      <td>4.0</td>\n",
       "      <td>3.5</td>\n",
       "      <td>8.2.2</td>\n",
       "      <td>4+</td>\n",
       "      <td>Productivity</td>\n",
       "      <td>37</td>\n",
       "      <td>5</td>\n",
       "      <td>23</td>\n",
       "      <td>1</td>\n",
       "    </tr>\n",
       "    <tr>\n",
       "      <th>2</th>\n",
       "      <td>3</td>\n",
       "      <td>281940292</td>\n",
       "      <td>WeatherBug - Local Weather, Radar, Maps, Alerts</td>\n",
       "      <td>100524032</td>\n",
       "      <td>USD</td>\n",
       "      <td>0.00</td>\n",
       "      <td>188583</td>\n",
       "      <td>2822</td>\n",
       "      <td>3.5</td>\n",
       "      <td>4.5</td>\n",
       "      <td>5.0.0</td>\n",
       "      <td>4+</td>\n",
       "      <td>Weather</td>\n",
       "      <td>37</td>\n",
       "      <td>5</td>\n",
       "      <td>3</td>\n",
       "      <td>1</td>\n",
       "    </tr>\n",
       "  </tbody>\n",
       "</table>\n",
       "</div>"
      ],
      "text/plain": [
       "   Unnamed: 0         id                                       track_name  \\\n",
       "0           1  281656475                                  PAC-MAN Premium   \n",
       "1           2  281796108                        Evernote - stay organized   \n",
       "2           3  281940292  WeatherBug - Local Weather, Radar, Maps, Alerts   \n",
       "\n",
       "   size_bytes currency  price  rating_count_tot  rating_count_ver  \\\n",
       "0   100788224      USD   3.99             21292                26   \n",
       "1   158578688      USD   0.00            161065                26   \n",
       "2   100524032      USD   0.00            188583              2822   \n",
       "\n",
       "   user_rating  user_rating_ver    ver cont_rating   prime_genre  \\\n",
       "0          4.0              4.5  6.3.5          4+         Games   \n",
       "1          4.0              3.5  8.2.2          4+  Productivity   \n",
       "2          3.5              4.5  5.0.0          4+       Weather   \n",
       "\n",
       "   sup_devices.num  ipadSc_urls.num  lang.num  vpp_lic  \n",
       "0               38                5        10        1  \n",
       "1               37                5        23        1  \n",
       "2               37                5         3        1  "
      ]
     },
     "execution_count": 58,
     "metadata": {},
     "output_type": "execute_result"
    }
   ],
   "source": [
    "# Create a variable called apple, and store in it the path of the csv file that contains your apple dataset. \n",
    "Apple = pd.read_csv('Applestore.csv')\n",
    "\n",
    "\n",
    "\n",
    "# Observe the first three entries like you did with your other data. \n",
    "Apple.head(3)"
   ]
  },
  {
   "cell_type": "markdown",
   "metadata": {
    "colab_type": "text",
    "id": "vljOHKNTFcuw"
   },
   "source": [
    "### 1b. Pick the columns we'll work with\n",
    "\n",
    "From the documentation of these datasets, we can infer that the most appropriate columns to answer the brief are:\n",
    "\n",
    "1. Google:\n",
    "    * `Category` # Do we need this?\n",
    "    * `Rating`\n",
    "    * `Reviews`\n",
    "    * `Price` (maybe)\n",
    "2. Apple:    \n",
    "    * `prime_genre` # Do we need this?\n",
    "    * `user_rating` \n",
    "    * `rating_count_tot`\n",
    "    * `price` (maybe)"
   ]
  },
  {
   "cell_type": "markdown",
   "metadata": {
    "colab_type": "text",
    "id": "uf69AeTvFcux"
   },
   "source": [
    "### 1c. Subsetting accordingly\n",
    "\n",
    "Let's select only those columns that we want to work with from both datasets. We'll overwrite the subsets in the original variables."
   ]
  },
  {
   "cell_type": "code",
   "execution_count": 59,
   "metadata": {
    "colab": {},
    "colab_type": "code",
    "id": "LNSDXyjdFcuy"
   },
   "outputs": [
    {
     "data": {
      "text/html": [
       "<div>\n",
       "<style scoped>\n",
       "    .dataframe tbody tr th:only-of-type {\n",
       "        vertical-align: middle;\n",
       "    }\n",
       "\n",
       "    .dataframe tbody tr th {\n",
       "        vertical-align: top;\n",
       "    }\n",
       "\n",
       "    .dataframe thead th {\n",
       "        text-align: right;\n",
       "    }\n",
       "</style>\n",
       "<table border=\"1\" class=\"dataframe\">\n",
       "  <thead>\n",
       "    <tr style=\"text-align: right;\">\n",
       "      <th></th>\n",
       "      <th>Category</th>\n",
       "      <th>Rating</th>\n",
       "      <th>Reviews</th>\n",
       "      <th>Price</th>\n",
       "    </tr>\n",
       "  </thead>\n",
       "  <tbody>\n",
       "    <tr>\n",
       "      <th>0</th>\n",
       "      <td>ART_AND_DESIGN</td>\n",
       "      <td>4.1</td>\n",
       "      <td>159</td>\n",
       "      <td>0</td>\n",
       "    </tr>\n",
       "    <tr>\n",
       "      <th>1</th>\n",
       "      <td>ART_AND_DESIGN</td>\n",
       "      <td>3.9</td>\n",
       "      <td>967</td>\n",
       "      <td>0</td>\n",
       "    </tr>\n",
       "    <tr>\n",
       "      <th>2</th>\n",
       "      <td>ART_AND_DESIGN</td>\n",
       "      <td>4.7</td>\n",
       "      <td>87510</td>\n",
       "      <td>0</td>\n",
       "    </tr>\n",
       "  </tbody>\n",
       "</table>\n",
       "</div>"
      ],
      "text/plain": [
       "         Category  Rating Reviews Price\n",
       "0  ART_AND_DESIGN     4.1     159     0\n",
       "1  ART_AND_DESIGN     3.9     967     0\n",
       "2  ART_AND_DESIGN     4.7   87510     0"
      ]
     },
     "execution_count": 59,
     "metadata": {},
     "output_type": "execute_result"
    }
   ],
   "source": [
    "# Subset our DataFrame object Google by selecting just the variables ['Category', 'Rating', 'Reviews', 'Price']\n",
    "Google = Google[['Category','Rating','Reviews','Price']]\n",
    "\n",
    "# Check the first three entries\n",
    "Google.head(3)"
   ]
  },
  {
   "cell_type": "code",
   "execution_count": 60,
   "metadata": {
    "colab": {},
    "colab_type": "code",
    "id": "AVCtENPtFcu0"
   },
   "outputs": [
    {
     "data": {
      "text/html": [
       "<div>\n",
       "<style scoped>\n",
       "    .dataframe tbody tr th:only-of-type {\n",
       "        vertical-align: middle;\n",
       "    }\n",
       "\n",
       "    .dataframe tbody tr th {\n",
       "        vertical-align: top;\n",
       "    }\n",
       "\n",
       "    .dataframe thead th {\n",
       "        text-align: right;\n",
       "    }\n",
       "</style>\n",
       "<table border=\"1\" class=\"dataframe\">\n",
       "  <thead>\n",
       "    <tr style=\"text-align: right;\">\n",
       "      <th></th>\n",
       "      <th>prime_genre</th>\n",
       "      <th>user_rating</th>\n",
       "      <th>rating_count_tot</th>\n",
       "      <th>price</th>\n",
       "    </tr>\n",
       "  </thead>\n",
       "  <tbody>\n",
       "    <tr>\n",
       "      <th>0</th>\n",
       "      <td>Games</td>\n",
       "      <td>4.0</td>\n",
       "      <td>21292</td>\n",
       "      <td>3.99</td>\n",
       "    </tr>\n",
       "    <tr>\n",
       "      <th>1</th>\n",
       "      <td>Productivity</td>\n",
       "      <td>4.0</td>\n",
       "      <td>161065</td>\n",
       "      <td>0.00</td>\n",
       "    </tr>\n",
       "    <tr>\n",
       "      <th>2</th>\n",
       "      <td>Weather</td>\n",
       "      <td>3.5</td>\n",
       "      <td>188583</td>\n",
       "      <td>0.00</td>\n",
       "    </tr>\n",
       "  </tbody>\n",
       "</table>\n",
       "</div>"
      ],
      "text/plain": [
       "    prime_genre  user_rating  rating_count_tot  price\n",
       "0         Games          4.0             21292   3.99\n",
       "1  Productivity          4.0            161065   0.00\n",
       "2       Weather          3.5            188583   0.00"
      ]
     },
     "execution_count": 60,
     "metadata": {},
     "output_type": "execute_result"
    }
   ],
   "source": [
    "# Do the same with our Apple object, selecting just the variables ['prime_genre', 'user_rating', 'rating_count_tot', 'price']\n",
    "Apple = Apple[['prime_genre', 'user_rating', 'rating_count_tot', 'price']]\n",
    "\n",
    "# Let's check the first three entries\n",
    "Apple.head(3)"
   ]
  },
  {
   "cell_type": "markdown",
   "metadata": {
    "colab_type": "text",
    "id": "wwK2wH-rFcu2"
   },
   "source": [
    "## Stage 2 -  Cleaning, transforming and visualizing"
   ]
  },
  {
   "cell_type": "markdown",
   "metadata": {
    "colab_type": "text",
    "id": "NsoE5x0JFcu3"
   },
   "source": [
    "### 2a. Check the data types for both Apple and Google, and fix them\n",
    "\n",
    "Types are crucial for data science in Python. Let's determine whether the variables we selected in the previous section belong to the types they should do, or whether there are any errors here. "
   ]
  },
  {
   "cell_type": "code",
   "execution_count": 61,
   "metadata": {
    "colab": {},
    "colab_type": "code",
    "id": "ymw10SaWFcu4"
   },
   "outputs": [
    {
     "data": {
      "text/plain": [
       "prime_genre          object\n",
       "user_rating         float64\n",
       "rating_count_tot      int64\n",
       "price               float64\n",
       "dtype: object"
      ]
     },
     "execution_count": 61,
     "metadata": {},
     "output_type": "execute_result"
    }
   ],
   "source": [
    "# Using the dtypes feature of pandas DataFrame objects, check out the data types within our Apple dataframe.\n",
    "# Are they what you expect?\n",
    "Apple.dtypes"
   ]
  },
  {
   "cell_type": "markdown",
   "metadata": {
    "colab_type": "text",
    "id": "VAiM6jIxFcu6"
   },
   "source": [
    "This is looking healthy. But what about our Google data frame?"
   ]
  },
  {
   "cell_type": "code",
   "execution_count": 62,
   "metadata": {
    "colab": {},
    "colab_type": "code",
    "id": "kmP8MhqyFcu7"
   },
   "outputs": [
    {
     "data": {
      "text/plain": [
       "Category     object\n",
       "Rating      float64\n",
       "Reviews      object\n",
       "Price        object\n",
       "dtype: object"
      ]
     },
     "execution_count": 62,
     "metadata": {},
     "output_type": "execute_result"
    }
   ],
   "source": [
    "# Using the same dtypes feature, check out the data types of our Google dataframe. \n",
    "Google.dtypes"
   ]
  },
  {
   "cell_type": "markdown",
   "metadata": {
    "colab_type": "text",
    "id": "O-dxAy0WFcu9"
   },
   "source": [
    "Weird. The data type for the column 'Price' is 'object', not a numeric data type like a float or an integer. Let's investigate the unique values of this column. "
   ]
  },
  {
   "cell_type": "code",
   "execution_count": 63,
   "metadata": {
    "colab": {},
    "colab_type": "code",
    "id": "Hu08K9y7Fcu9"
   },
   "outputs": [
    {
     "data": {
      "text/plain": [
       "array(['0', '$4.99', '$3.99', '$6.99', '$1.49', '$2.99', '$7.99', '$5.99',\n",
       "       '$3.49', '$1.99', '$9.99', '$7.49', '$0.99', '$9.00', '$5.49',\n",
       "       '$10.00', '$24.99', '$11.99', '$79.99', '$16.99', '$14.99',\n",
       "       '$1.00', '$29.99', '$12.99', '$2.49', '$10.99', '$1.50', '$19.99',\n",
       "       '$15.99', '$33.99', '$74.99', '$39.99', '$3.95', '$4.49', '$1.70',\n",
       "       '$8.99', '$2.00', '$3.88', '$25.99', '$399.99', '$17.99',\n",
       "       '$400.00', '$3.02', '$1.76', '$4.84', '$4.77', '$1.61', '$2.50',\n",
       "       '$1.59', '$6.49', '$1.29', '$5.00', '$13.99', '$299.99', '$379.99',\n",
       "       '$37.99', '$18.99', '$389.99', '$19.90', '$8.49', '$1.75',\n",
       "       '$14.00', '$4.85', '$46.99', '$109.99', '$154.99', '$3.08',\n",
       "       '$2.59', '$4.80', '$1.96', '$19.40', '$3.90', '$4.59', '$15.46',\n",
       "       '$3.04', '$4.29', '$2.60', '$3.28', '$4.60', '$28.99', '$2.95',\n",
       "       '$2.90', '$1.97', '$200.00', '$89.99', '$2.56', '$30.99', '$3.61',\n",
       "       '$394.99', '$1.26', 'Everyone', '$1.20', '$1.04'], dtype=object)"
      ]
     },
     "execution_count": 63,
     "metadata": {},
     "output_type": "execute_result"
    }
   ],
   "source": [
    "# Use the unique() pandas method on the Price column to check its unique values. \n",
    "Google.Price.unique()"
   ]
  },
  {
   "cell_type": "markdown",
   "metadata": {
    "colab_type": "text",
    "id": "w_7nkogFFcu_"
   },
   "source": [
    "Aha! Fascinating. There are actually two issues here. \n",
    "\n",
    "- Firstly, there's a price called `Everyone`. That is a massive mistake! \n",
    "- Secondly, there are dollar symbols everywhere! \n",
    "\n",
    "\n",
    "Let's address the first issue first. Let's check the datapoints that have the price value `Everyone`"
   ]
  },
  {
   "cell_type": "code",
   "execution_count": 64,
   "metadata": {
    "colab": {},
    "colab_type": "code",
    "id": "E75WWmhdFcvA"
   },
   "outputs": [
    {
     "data": {
      "text/html": [
       "<div>\n",
       "<style scoped>\n",
       "    .dataframe tbody tr th:only-of-type {\n",
       "        vertical-align: middle;\n",
       "    }\n",
       "\n",
       "    .dataframe tbody tr th {\n",
       "        vertical-align: top;\n",
       "    }\n",
       "\n",
       "    .dataframe thead th {\n",
       "        text-align: right;\n",
       "    }\n",
       "</style>\n",
       "<table border=\"1\" class=\"dataframe\">\n",
       "  <thead>\n",
       "    <tr style=\"text-align: right;\">\n",
       "      <th></th>\n",
       "      <th>Category</th>\n",
       "      <th>Rating</th>\n",
       "      <th>Reviews</th>\n",
       "      <th>Price</th>\n",
       "    </tr>\n",
       "  </thead>\n",
       "  <tbody>\n",
       "    <tr>\n",
       "      <th>10472</th>\n",
       "      <td>1.9</td>\n",
       "      <td>19.0</td>\n",
       "      <td>3.0M</td>\n",
       "      <td>Everyone</td>\n",
       "    </tr>\n",
       "  </tbody>\n",
       "</table>\n",
       "</div>"
      ],
      "text/plain": [
       "      Category  Rating Reviews     Price\n",
       "10472      1.9    19.0    3.0M  Everyone"
      ]
     },
     "execution_count": 64,
     "metadata": {},
     "output_type": "execute_result"
    }
   ],
   "source": [
    "# Let's check which data points have the value 'Everyone' for the 'Price' column by subsetting our Google dataframe.\n",
    "\n",
    "gprice = Google[Google['Price'] == 'Everyone']\n",
    "\n",
    "# Subset the Google dataframe on the price column. \n",
    "# To be sure: you want to pick out just those rows whose value for the 'Price' column is just 'Everyone'. \n",
    "gprice"
   ]
  },
  {
   "cell_type": "markdown",
   "metadata": {
    "colab_type": "text",
    "id": "ezfLshdRFcvC"
   },
   "source": [
    "Thankfully, it's just one row. We've gotta get rid of it. "
   ]
  },
  {
   "cell_type": "code",
   "execution_count": 65,
   "metadata": {
    "colab": {},
    "colab_type": "code",
    "id": "DBmjUQUkFcvD"
   },
   "outputs": [
    {
     "data": {
      "text/plain": [
       "array(['0', '$4.99', '$3.99', '$6.99', '$1.49', '$2.99', '$7.99', '$5.99',\n",
       "       '$3.49', '$1.99', '$9.99', '$7.49', '$0.99', '$9.00', '$5.49',\n",
       "       '$10.00', '$24.99', '$11.99', '$79.99', '$16.99', '$14.99',\n",
       "       '$1.00', '$29.99', '$12.99', '$2.49', '$10.99', '$1.50', '$19.99',\n",
       "       '$15.99', '$33.99', '$74.99', '$39.99', '$3.95', '$4.49', '$1.70',\n",
       "       '$8.99', '$2.00', '$3.88', '$25.99', '$399.99', '$17.99',\n",
       "       '$400.00', '$3.02', '$1.76', '$4.84', '$4.77', '$1.61', '$2.50',\n",
       "       '$1.59', '$6.49', '$1.29', '$5.00', '$13.99', '$299.99', '$379.99',\n",
       "       '$37.99', '$18.99', '$389.99', '$19.90', '$8.49', '$1.75',\n",
       "       '$14.00', '$4.85', '$46.99', '$109.99', '$154.99', '$3.08',\n",
       "       '$2.59', '$4.80', '$1.96', '$19.40', '$3.90', '$4.59', '$15.46',\n",
       "       '$3.04', '$4.29', '$2.60', '$3.28', '$4.60', '$28.99', '$2.95',\n",
       "       '$2.90', '$1.97', '$200.00', '$89.99', '$2.56', '$30.99', '$3.61',\n",
       "       '$394.99', '$1.26', '$1.20', '$1.04'], dtype=object)"
      ]
     },
     "execution_count": 65,
     "metadata": {},
     "output_type": "execute_result"
    }
   ],
   "source": [
    "# Let's eliminate that row. \n",
    "\n",
    "# Subset our Google dataframe to pick out just those rows whose value for the 'Price' column is NOT 'Everyone'. \n",
    "# Reassign that subset to the Google variable. \n",
    "# You can do this in two lines or one. Your choice! \n",
    "Google = Google[Google.Price != 'Everyone']\n",
    "\n",
    "# Check again the unique values of Google\n",
    "Google.Price.unique()"
   ]
  },
  {
   "cell_type": "markdown",
   "metadata": {
    "colab_type": "text",
    "id": "T43TB4qFFcvF"
   },
   "source": [
    "Our second problem remains: I'm seeing dollar symbols when I close my eyes! (And not in a good way). \n",
    "\n",
    "This is a problem because Python actually considers these values strings. So we can't do mathematical and statistical operations on them until we've made them into numbers. "
   ]
  },
  {
   "cell_type": "code",
   "execution_count": 66,
   "metadata": {
    "colab": {},
    "colab_type": "code",
    "id": "W87gVS9BFcvG"
   },
   "outputs": [
    {
     "name": "stderr",
     "output_type": "stream",
     "text": [
      "C:\\Users\\marsh\\AppData\\Local\\Temp/ipykernel_11992/394286568.py:3: FutureWarning: The default value of regex will change from True to False in a future version. In addition, single character regular expressions will *not* be treated as literal strings when regex=True.\n",
      "  nosymb = Google['Price'].str.replace(\"$\",\"\")\n"
     ]
    }
   ],
   "source": [
    "# Let's create a variable called nosymb.\n",
    "# This variable will take the Price column of Google and apply the str.replace() method. \n",
    "nosymb = Google['Price'].str.replace(\"$\",\"\")\n",
    "# Now we need to do two things:\n",
    "# i. Make the values in the nosymb variable numeric using the to_numeric() pandas method.\n",
    "# ii. Assign this new set of numeric, dollar-sign-less values to Google['Price']. \n",
    "# You can do this in one line if you wish.\n",
    "Google['Price'] = pd.to_numeric(nosymb)"
   ]
  },
  {
   "cell_type": "markdown",
   "metadata": {
    "colab_type": "text",
    "id": "LxpJQ9yyFcvI"
   },
   "source": [
    "Now let's check the data types for our Google dataframe again, to verify that the 'Price' column really is numeric now."
   ]
  },
  {
   "cell_type": "code",
   "execution_count": 67,
   "metadata": {
    "colab": {},
    "colab_type": "code",
    "id": "Fn5Gt-QbFcvI"
   },
   "outputs": [
    {
     "data": {
      "text/plain": [
       "Category     object\n",
       "Rating      float64\n",
       "Reviews      object\n",
       "Price       float64\n",
       "dtype: object"
      ]
     },
     "execution_count": 67,
     "metadata": {},
     "output_type": "execute_result"
    }
   ],
   "source": [
    "# Use the function dtypes. \n",
    "Google.dtypes"
   ]
  },
  {
   "cell_type": "markdown",
   "metadata": {
    "colab_type": "text",
    "id": "FgfuiVo0FcvK"
   },
   "source": [
    "Notice that the column `Reviews` is still an object column. We actually need this column to be a numeric column, too. "
   ]
  },
  {
   "cell_type": "code",
   "execution_count": 68,
   "metadata": {
    "colab": {},
    "colab_type": "code",
    "id": "MiVEWsWBFcvL"
   },
   "outputs": [],
   "source": [
    "# Convert the 'Reviews' column to a numeric data type. \n",
    "Google.Reviews = pd.to_numeric(Google.Reviews)"
   ]
  },
  {
   "cell_type": "code",
   "execution_count": 69,
   "metadata": {
    "colab": {},
    "colab_type": "code",
    "id": "wWJdXXTTFcvN"
   },
   "outputs": [
    {
     "data": {
      "text/plain": [
       "Category     object\n",
       "Rating      float64\n",
       "Reviews       int64\n",
       "Price       float64\n",
       "dtype: object"
      ]
     },
     "execution_count": 69,
     "metadata": {},
     "output_type": "execute_result"
    }
   ],
   "source": [
    "# Let's check the data types of Google again\n",
    "Google.dtypes"
   ]
  },
  {
   "cell_type": "markdown",
   "metadata": {
    "colab_type": "text",
    "id": "OiLm2GEKFcvP"
   },
   "source": [
    "### 2b. Add a `platform` column to both the `Apple` and the `Google` dataframes\n",
    "Let's add a new column to both dataframe objects called `platform`: all of its values in the Google dataframe will be just 'google', and all of its values for the Apple dataframe will be just 'apple'. \n",
    "\n",
    "The reason we're making this column is so that we can ultimately join our Apple and Google data together, and actually test out some hypotheses to solve the problem in our brief. "
   ]
  },
  {
   "cell_type": "code",
   "execution_count": 70,
   "metadata": {
    "colab": {},
    "colab_type": "code",
    "id": "mF-sOcx2FcvQ"
   },
   "outputs": [],
   "source": [
    "# Create a column called 'platform' in both the Apple and Google dataframes. \n",
    "# Add the value 'apple' and the value 'google' as appropriate. \n",
    "Google['platform'] = 'google'\n",
    "Apple['platform'] = 'apple'"
   ]
  },
  {
   "cell_type": "code",
   "execution_count": 71,
   "metadata": {},
   "outputs": [
    {
     "data": {
      "text/html": [
       "<div>\n",
       "<style scoped>\n",
       "    .dataframe tbody tr th:only-of-type {\n",
       "        vertical-align: middle;\n",
       "    }\n",
       "\n",
       "    .dataframe tbody tr th {\n",
       "        vertical-align: top;\n",
       "    }\n",
       "\n",
       "    .dataframe thead th {\n",
       "        text-align: right;\n",
       "    }\n",
       "</style>\n",
       "<table border=\"1\" class=\"dataframe\">\n",
       "  <thead>\n",
       "    <tr style=\"text-align: right;\">\n",
       "      <th></th>\n",
       "      <th>prime_genre</th>\n",
       "      <th>user_rating</th>\n",
       "      <th>rating_count_tot</th>\n",
       "      <th>price</th>\n",
       "      <th>platform</th>\n",
       "    </tr>\n",
       "  </thead>\n",
       "  <tbody>\n",
       "    <tr>\n",
       "      <th>0</th>\n",
       "      <td>Games</td>\n",
       "      <td>4.0</td>\n",
       "      <td>21292</td>\n",
       "      <td>3.99</td>\n",
       "      <td>apple</td>\n",
       "    </tr>\n",
       "    <tr>\n",
       "      <th>1</th>\n",
       "      <td>Productivity</td>\n",
       "      <td>4.0</td>\n",
       "      <td>161065</td>\n",
       "      <td>0.00</td>\n",
       "      <td>apple</td>\n",
       "    </tr>\n",
       "    <tr>\n",
       "      <th>2</th>\n",
       "      <td>Weather</td>\n",
       "      <td>3.5</td>\n",
       "      <td>188583</td>\n",
       "      <td>0.00</td>\n",
       "      <td>apple</td>\n",
       "    </tr>\n",
       "    <tr>\n",
       "      <th>3</th>\n",
       "      <td>Shopping</td>\n",
       "      <td>4.0</td>\n",
       "      <td>262241</td>\n",
       "      <td>0.00</td>\n",
       "      <td>apple</td>\n",
       "    </tr>\n",
       "    <tr>\n",
       "      <th>4</th>\n",
       "      <td>Reference</td>\n",
       "      <td>4.5</td>\n",
       "      <td>985920</td>\n",
       "      <td>0.00</td>\n",
       "      <td>apple</td>\n",
       "    </tr>\n",
       "    <tr>\n",
       "      <th>...</th>\n",
       "      <td>...</td>\n",
       "      <td>...</td>\n",
       "      <td>...</td>\n",
       "      <td>...</td>\n",
       "      <td>...</td>\n",
       "    </tr>\n",
       "    <tr>\n",
       "      <th>7192</th>\n",
       "      <td>Games</td>\n",
       "      <td>4.5</td>\n",
       "      <td>142</td>\n",
       "      <td>0.00</td>\n",
       "      <td>apple</td>\n",
       "    </tr>\n",
       "    <tr>\n",
       "      <th>7193</th>\n",
       "      <td>Games</td>\n",
       "      <td>4.5</td>\n",
       "      <td>30</td>\n",
       "      <td>0.00</td>\n",
       "      <td>apple</td>\n",
       "    </tr>\n",
       "    <tr>\n",
       "      <th>7194</th>\n",
       "      <td>Utilities</td>\n",
       "      <td>4.5</td>\n",
       "      <td>15</td>\n",
       "      <td>1.99</td>\n",
       "      <td>apple</td>\n",
       "    </tr>\n",
       "    <tr>\n",
       "      <th>7195</th>\n",
       "      <td>Games</td>\n",
       "      <td>4.5</td>\n",
       "      <td>85</td>\n",
       "      <td>0.00</td>\n",
       "      <td>apple</td>\n",
       "    </tr>\n",
       "    <tr>\n",
       "      <th>7196</th>\n",
       "      <td>Games</td>\n",
       "      <td>5.0</td>\n",
       "      <td>3</td>\n",
       "      <td>0.00</td>\n",
       "      <td>apple</td>\n",
       "    </tr>\n",
       "  </tbody>\n",
       "</table>\n",
       "<p>7197 rows × 5 columns</p>\n",
       "</div>"
      ],
      "text/plain": [
       "       prime_genre  user_rating  rating_count_tot  price platform\n",
       "0            Games          4.0             21292   3.99    apple\n",
       "1     Productivity          4.0            161065   0.00    apple\n",
       "2          Weather          3.5            188583   0.00    apple\n",
       "3         Shopping          4.0            262241   0.00    apple\n",
       "4        Reference          4.5            985920   0.00    apple\n",
       "...            ...          ...               ...    ...      ...\n",
       "7192         Games          4.5               142   0.00    apple\n",
       "7193         Games          4.5                30   0.00    apple\n",
       "7194     Utilities          4.5                15   1.99    apple\n",
       "7195         Games          4.5                85   0.00    apple\n",
       "7196         Games          5.0                 3   0.00    apple\n",
       "\n",
       "[7197 rows x 5 columns]"
      ]
     },
     "execution_count": 71,
     "metadata": {},
     "output_type": "execute_result"
    }
   ],
   "source": [
    "Apple"
   ]
  },
  {
   "cell_type": "markdown",
   "metadata": {
    "colab_type": "text",
    "id": "EJcry17IFcvS"
   },
   "source": [
    "### 2c. Changing the column names to prepare for our join of the two datasets \n",
    "Since the easiest way to join two datasets is if they have both:\n",
    "- the same number of columns\n",
    "- the same column names\n",
    "we need to rename the columns of `Apple` so that they're the same as the ones of `Google`, or vice versa.\n",
    "\n",
    "In this case, we're going to change the `Apple` columns names to the names of the `Google` columns. \n",
    "\n",
    "This is an important step to unify the two datasets!"
   ]
  },
  {
   "cell_type": "code",
   "execution_count": 72,
   "metadata": {
    "colab": {},
    "colab_type": "code",
    "id": "bdt9XH2KFcvT"
   },
   "outputs": [
    {
     "data": {
      "text/plain": [
       "(Index(['Category', 'Rating', 'Reviews', 'Price', 'platform'], dtype='object'),\n",
       " Index(['Category', 'Rating', 'Reviews', 'Price', 'platform'], dtype='object'))"
      ]
     },
     "execution_count": 72,
     "metadata": {},
     "output_type": "execute_result"
    }
   ],
   "source": [
    "# Create a variable called old_names where you'll store the column names of the Apple dataframe. \n",
    "# Use the feature .columns.\n",
    "old_names = Apple.columns\n",
    "\n",
    "# Create a variable called new_names where you'll store the column names of the Google dataframe. \n",
    "new_names = Google.columns\n",
    "\n",
    "# Use the rename() DataFrame method to change the columns names. \n",
    "Apple = Apple.rename(columns = dict(zip(old_names,new_names)))\n",
    "Apple.columns, Google.columns"
   ]
  },
  {
   "cell_type": "markdown",
   "metadata": {
    "colab_type": "text",
    "id": "qewPiLrRFcvX"
   },
   "source": [
    "### 2d. Join the two datasets \n",
    "Let's combine the two datasets into a single data frame called `df`."
   ]
  },
  {
   "cell_type": "code",
   "execution_count": 73,
   "metadata": {
    "colab": {},
    "colab_type": "code",
    "id": "jq6fGfvyFcvY"
   },
   "outputs": [
    {
     "data": {
      "text/html": [
       "<div>\n",
       "<style scoped>\n",
       "    .dataframe tbody tr th:only-of-type {\n",
       "        vertical-align: middle;\n",
       "    }\n",
       "\n",
       "    .dataframe tbody tr th {\n",
       "        vertical-align: top;\n",
       "    }\n",
       "\n",
       "    .dataframe thead th {\n",
       "        text-align: right;\n",
       "    }\n",
       "</style>\n",
       "<table border=\"1\" class=\"dataframe\">\n",
       "  <thead>\n",
       "    <tr style=\"text-align: right;\">\n",
       "      <th></th>\n",
       "      <th>Category</th>\n",
       "      <th>Rating</th>\n",
       "      <th>Reviews</th>\n",
       "      <th>Price</th>\n",
       "      <th>platform</th>\n",
       "    </tr>\n",
       "  </thead>\n",
       "  <tbody>\n",
       "    <tr>\n",
       "      <th>6198</th>\n",
       "      <td>Games</td>\n",
       "      <td>4.5</td>\n",
       "      <td>683</td>\n",
       "      <td>0.00</td>\n",
       "      <td>apple</td>\n",
       "    </tr>\n",
       "    <tr>\n",
       "      <th>9990</th>\n",
       "      <td>BUSINESS</td>\n",
       "      <td>NaN</td>\n",
       "      <td>0</td>\n",
       "      <td>0.00</td>\n",
       "      <td>google</td>\n",
       "    </tr>\n",
       "    <tr>\n",
       "      <th>7063</th>\n",
       "      <td>Entertainment</td>\n",
       "      <td>5.0</td>\n",
       "      <td>223</td>\n",
       "      <td>1.99</td>\n",
       "      <td>apple</td>\n",
       "    </tr>\n",
       "    <tr>\n",
       "      <th>7021</th>\n",
       "      <td>Games</td>\n",
       "      <td>0.0</td>\n",
       "      <td>0</td>\n",
       "      <td>0.00</td>\n",
       "      <td>apple</td>\n",
       "    </tr>\n",
       "    <tr>\n",
       "      <th>425</th>\n",
       "      <td>Productivity</td>\n",
       "      <td>4.0</td>\n",
       "      <td>336</td>\n",
       "      <td>4.99</td>\n",
       "      <td>apple</td>\n",
       "    </tr>\n",
       "    <tr>\n",
       "      <th>7848</th>\n",
       "      <td>FAMILY</td>\n",
       "      <td>3.9</td>\n",
       "      <td>3253</td>\n",
       "      <td>0.00</td>\n",
       "      <td>google</td>\n",
       "    </tr>\n",
       "    <tr>\n",
       "      <th>132</th>\n",
       "      <td>Productivity</td>\n",
       "      <td>4.5</td>\n",
       "      <td>220</td>\n",
       "      <td>0.00</td>\n",
       "      <td>apple</td>\n",
       "    </tr>\n",
       "    <tr>\n",
       "      <th>7566</th>\n",
       "      <td>TOOLS</td>\n",
       "      <td>4.4</td>\n",
       "      <td>29</td>\n",
       "      <td>0.00</td>\n",
       "      <td>google</td>\n",
       "    </tr>\n",
       "    <tr>\n",
       "      <th>7357</th>\n",
       "      <td>FAMILY</td>\n",
       "      <td>4.7</td>\n",
       "      <td>1647</td>\n",
       "      <td>14.99</td>\n",
       "      <td>google</td>\n",
       "    </tr>\n",
       "    <tr>\n",
       "      <th>1679</th>\n",
       "      <td>GAME</td>\n",
       "      <td>4.5</td>\n",
       "      <td>1135631</td>\n",
       "      <td>0.00</td>\n",
       "      <td>google</td>\n",
       "    </tr>\n",
       "    <tr>\n",
       "      <th>9864</th>\n",
       "      <td>FAMILY</td>\n",
       "      <td>3.6</td>\n",
       "      <td>688</td>\n",
       "      <td>0.00</td>\n",
       "      <td>google</td>\n",
       "    </tr>\n",
       "    <tr>\n",
       "      <th>6951</th>\n",
       "      <td>Games</td>\n",
       "      <td>4.0</td>\n",
       "      <td>506</td>\n",
       "      <td>0.00</td>\n",
       "      <td>apple</td>\n",
       "    </tr>\n",
       "  </tbody>\n",
       "</table>\n",
       "</div>"
      ],
      "text/plain": [
       "           Category  Rating  Reviews  Price platform\n",
       "6198          Games     4.5      683   0.00    apple\n",
       "9990       BUSINESS     NaN        0   0.00   google\n",
       "7063  Entertainment     5.0      223   1.99    apple\n",
       "7021          Games     0.0        0   0.00    apple\n",
       "425    Productivity     4.0      336   4.99    apple\n",
       "7848         FAMILY     3.9     3253   0.00   google\n",
       "132    Productivity     4.5      220   0.00    apple\n",
       "7566          TOOLS     4.4       29   0.00   google\n",
       "7357         FAMILY     4.7     1647  14.99   google\n",
       "1679           GAME     4.5  1135631   0.00   google\n",
       "9864         FAMILY     3.6      688   0.00   google\n",
       "6951          Games     4.0      506   0.00    apple"
      ]
     },
     "execution_count": 73,
     "metadata": {},
     "output_type": "execute_result"
    }
   ],
   "source": [
    "# Let's use the append() method to append Apple to Google. \n",
    "df = Google.append(Apple)\n",
    "\n",
    "# Using the sample() method with the number 12 passed to it, check 12 random points of your dataset.\n",
    "df.sample(12)"
   ]
  },
  {
   "cell_type": "code",
   "execution_count": 74,
   "metadata": {},
   "outputs": [
    {
     "data": {
      "text/plain": [
       "Category       0\n",
       "Rating      1474\n",
       "Reviews        0\n",
       "Price          0\n",
       "platform       0\n",
       "dtype: int64"
      ]
     },
     "execution_count": 74,
     "metadata": {},
     "output_type": "execute_result"
    }
   ],
   "source": [
    "Google.isnull().sum()"
   ]
  },
  {
   "cell_type": "code",
   "execution_count": 75,
   "metadata": {},
   "outputs": [
    {
     "data": {
      "text/plain": [
       "Category       0\n",
       "Rating      1474\n",
       "Reviews        0\n",
       "Price          0\n",
       "platform       0\n",
       "dtype: int64"
      ]
     },
     "execution_count": 75,
     "metadata": {},
     "output_type": "execute_result"
    }
   ],
   "source": [
    "df.isnull().sum()"
   ]
  },
  {
   "cell_type": "markdown",
   "metadata": {
    "colab_type": "text",
    "id": "FjqsHugWFcvb"
   },
   "source": [
    "### 2e. Eliminate the NaN values\n",
    "\n",
    "As you can see there are some `NaN` values. We want to eliminate all these `NaN` values from the table."
   ]
  },
  {
   "cell_type": "code",
   "execution_count": 76,
   "metadata": {
    "colab": {},
    "colab_type": "code",
    "id": "Gp2q6GLyFcvb"
   },
   "outputs": [
    {
     "data": {
      "text/plain": [
       "(18037, 5)"
      ]
     },
     "execution_count": 76,
     "metadata": {},
     "output_type": "execute_result"
    }
   ],
   "source": [
    "# Lets check first the dimesions of df before droping `NaN` values. Use the .shape feature. \n",
    "df.shape\n",
    "# Use the dropna() method to eliminate all the NaN values, and overwrite the same dataframe with the result. \n",
    "\n",
    "\n",
    "# Check the new dimesions of our dataframe. \n"
   ]
  },
  {
   "cell_type": "code",
   "execution_count": 77,
   "metadata": {},
   "outputs": [
    {
     "data": {
      "text/plain": [
       "(16563, 5)"
      ]
     },
     "execution_count": 77,
     "metadata": {},
     "output_type": "execute_result"
    }
   ],
   "source": [
    "df = df.dropna()\n",
    "df.shape"
   ]
  },
  {
   "cell_type": "markdown",
   "metadata": {
    "colab_type": "text",
    "id": "qtfeQKtAFcvd"
   },
   "source": [
    "### 2f. Filter the data so that we only see whose apps that have been reviewed at least once\n",
    "\n",
    "Apps that haven't been reviewed yet can't help us solve our brief. \n",
    "\n",
    "So let's check to see if any apps have no reviews at all. "
   ]
  },
  {
   "cell_type": "code",
   "execution_count": 78,
   "metadata": {
    "colab": {},
    "colab_type": "code",
    "id": "Ge9OKXLNFcvd"
   },
   "outputs": [
    {
     "data": {
      "text/plain": [
       "Category    929\n",
       "Rating      929\n",
       "Reviews     929\n",
       "Price       929\n",
       "platform    929\n",
       "dtype: int64"
      ]
     },
     "execution_count": 78,
     "metadata": {},
     "output_type": "execute_result"
    }
   ],
   "source": [
    "# Subset your df to pick out just those rows whose value for 'Reviews' is equal to 0. \n",
    "# Do a count() on the result. \n",
    "result = df[df['Reviews'] == 0]\n",
    "result.count()"
   ]
  },
  {
   "cell_type": "markdown",
   "metadata": {
    "colab_type": "text",
    "id": "05f7H0kAFcvg"
   },
   "source": [
    "929 apps do not have reviews, we need to eliminate these points!"
   ]
  },
  {
   "cell_type": "code",
   "execution_count": 79,
   "metadata": {
    "colab": {},
    "colab_type": "code",
    "id": "pD8vmPjkFcvg"
   },
   "outputs": [
    {
     "data": {
      "text/plain": [
       "Category    15634\n",
       "Rating      15634\n",
       "Reviews     15634\n",
       "Price       15634\n",
       "platform    15634\n",
       "dtype: int64"
      ]
     },
     "execution_count": 79,
     "metadata": {},
     "output_type": "execute_result"
    }
   ],
   "source": [
    "# Eliminate the points that have 0 reviews.\n",
    "df = df[df['Reviews'] != 0]\n",
    "df.count()"
   ]
  },
  {
   "cell_type": "markdown",
   "metadata": {
    "colab_type": "text",
    "id": "ApnKES_bFcvi"
   },
   "source": [
    "### 2g. Summarize the data visually and analytically (by the column `platform`)"
   ]
  },
  {
   "cell_type": "markdown",
   "metadata": {
    "colab_type": "text",
    "id": "2smt9UocFcvj"
   },
   "source": [
    "What we need to solve our brief is a summary of the `Rating` column, but separated by the different platforms."
   ]
  },
  {
   "cell_type": "code",
   "execution_count": 80,
   "metadata": {
    "colab": {},
    "colab_type": "code",
    "id": "Vqckt347Fcvj"
   },
   "outputs": [
    {
     "data": {
      "text/html": [
       "<div>\n",
       "<style scoped>\n",
       "    .dataframe tbody tr th:only-of-type {\n",
       "        vertical-align: middle;\n",
       "    }\n",
       "\n",
       "    .dataframe tbody tr th {\n",
       "        vertical-align: top;\n",
       "    }\n",
       "\n",
       "    .dataframe thead th {\n",
       "        text-align: right;\n",
       "    }\n",
       "</style>\n",
       "<table border=\"1\" class=\"dataframe\">\n",
       "  <thead>\n",
       "    <tr style=\"text-align: right;\">\n",
       "      <th></th>\n",
       "      <th>Rating</th>\n",
       "      <th>Reviews</th>\n",
       "      <th>Price</th>\n",
       "    </tr>\n",
       "    <tr>\n",
       "      <th>platform</th>\n",
       "      <th></th>\n",
       "      <th></th>\n",
       "      <th></th>\n",
       "    </tr>\n",
       "  </thead>\n",
       "  <tbody>\n",
       "    <tr>\n",
       "      <th>apple</th>\n",
       "      <td>4.049697</td>\n",
       "      <td>14803.805520</td>\n",
       "      <td>1.821977</td>\n",
       "    </tr>\n",
       "    <tr>\n",
       "      <th>google</th>\n",
       "      <td>4.191757</td>\n",
       "      <td>514049.836536</td>\n",
       "      <td>0.960928</td>\n",
       "    </tr>\n",
       "  </tbody>\n",
       "</table>\n",
       "</div>"
      ],
      "text/plain": [
       "            Rating        Reviews     Price\n",
       "platform                                   \n",
       "apple     4.049697   14803.805520  1.821977\n",
       "google    4.191757  514049.836536  0.960928"
      ]
     },
     "execution_count": 80,
     "metadata": {},
     "output_type": "execute_result"
    }
   ],
   "source": [
    "# To summarize analytically, let's use the groupby() method on our df.\n",
    "df.groupby('platform').mean('rating')"
   ]
  },
  {
   "cell_type": "markdown",
   "metadata": {
    "colab_type": "text",
    "id": "8f9TqMtKFcvl"
   },
   "source": [
    "Interesting! Our means of 4.049697 and 4.191757 don't **seem** all that different! Perhaps we've solved our brief already: there's no significant difference between Google Play app reviews and Apple Store app reviews. We have an ***observed difference*** here: which is simply (4.191757 - 4.049697) = 0.14206. This is just the actual difference that we observed between the mean rating for apps from Google Play, and the mean rating for apps from the Apple Store. Let's look at how we're going to use this observed difference to solve our problem using a statistical test. \n",
    "\n",
    "**Outline of our method:**\n",
    "1. We'll assume that platform (i.e, whether the app was Google or Apple) really doesn’t impact on ratings. \n",
    "\n",
    "\n",
    "2. Given this assumption, we should actually be able to get a difference in mean rating for Apple apps and mean rating for Google apps that's pretty similar to the one we actually got (0.14206) just by: \n",
    "a. shuffling the ratings column, \n",
    "b. keeping the platform column the same,\n",
    "c. calculating the difference between the mean rating for Apple and the mean rating for Google. \n",
    "\n",
    "\n",
    "3. We can make the shuffle more useful by doing it many times, each time calculating the mean rating for Apple apps and the mean rating for Google apps, and the difference between these means. \n",
    "\n",
    "\n",
    "4. We can then take the mean of all these differences, and this will be called our permutation difference. This permutation difference will be great indicator of what the difference would be if our initial assumption were true and platform really doesn’t impact on ratings. \n",
    "\n",
    "\n",
    "5. Now we do a comparison. If the observed difference looks just like the permutation difference, then we stick with the claim that actually, platform doesn’t impact on ratings. If instead, however, the permutation difference differs significantly from the observed difference, we'll conclude: something's going on; the platform does in fact impact on ratings. \n",
    "\n",
    "\n",
    "6. As for what the definition of *significantly* is, we'll get to that. But there’s a brief summary of what we're going to do. Exciting!\n",
    "\n",
    "If you want to look more deeply at the statistics behind this project, check out [this resource](https://www.springboard.com/archeio/download/4ea4d453b0b84014bcef287c50f47f00/)."
   ]
  },
  {
   "cell_type": "markdown",
   "metadata": {
    "colab_type": "text",
    "id": "d6EhTxArFcvm"
   },
   "source": [
    "Let's also get a **visual summary** of the `Rating` column, separated by the different platforms. \n",
    "\n",
    "A good tool to use here is the boxplot!"
   ]
  },
  {
   "cell_type": "code",
   "execution_count": 81,
   "metadata": {
    "colab": {},
    "colab_type": "code",
    "id": "hFKjrlWgFcvm"
   },
   "outputs": [
    {
     "data": {
      "text/plain": [
       "<AxesSubplot:title={'center':'Rating'}, xlabel='platform'>"
      ]
     },
     "execution_count": 81,
     "metadata": {},
     "output_type": "execute_result"
    },
    {
     "data": {
      "image/png": "[encoded data removed]",
      "text/plain": [
       "<Figure size 432x288 with 1 Axes>"
      ]
     },
     "metadata": {
      "needs_background": "light"
     },
     "output_type": "display_data"
    }
   ],
   "source": [
    "# Call the boxplot() method on our df.\n",
    "df.boxplot(by = 'platform', column = ['Rating'], grid = False, fontsize = 15)"
   ]
  },
  {
   "cell_type": "markdown",
   "metadata": {
    "colab_type": "text",
    "id": "FqTlAjnmFcvo"
   },
   "source": [
    "Here we see the same information as in the analytical summary, but with a boxplot. Can you see how the boxplot is working here? If you need to revise your boxplots, check out this this [link](https://www.kaggle.com/ramamet4/app-store-apple-data-set-10k-apps). "
   ]
  },
  {
   "cell_type": "markdown",
   "metadata": {
    "colab_type": "text",
    "id": "O8L-s1fgFcvp"
   },
   "source": [
    "## Stage 3 - Modelling"
   ]
  },
  {
   "cell_type": "markdown",
   "metadata": {
    "colab_type": "text",
    "id": "5fbRq2MZFcvq"
   },
   "source": [
    "### 3a. Hypothesis formulation\n",
    "\n",
    "Our **Null hypothesis** is just:\n",
    "\n",
    "**H<sub>null</sub>**: the observed difference in the mean rating of Apple Store and Google Play apps is due to chance (and thus not due to the platform).\n",
    "\n",
    "The more interesting hypothesis is called the **Alternate hypothesis**:\n",
    "\n",
    "**H<sub>alternative</sub>**: the observed difference in the average ratings of apple and google users is not due to chance (and is actually due to platform)\n",
    "\n",
    "We're also going to pick a **significance level** of 0.05. "
   ]
  },
  {
   "cell_type": "markdown",
   "metadata": {
    "colab_type": "text",
    "id": "TjBqkabaFcvq"
   },
   "source": [
    "### 3b. Getting the distribution of the data\n",
    "Now that the hypotheses and significance level are defined, we can select a statistical test to determine which hypothesis to accept. \n",
    "\n",
    "There are many different statistical tests, all with different assumptions. You'll generate an excellent judgement about when to use which statistical tests over the Data Science Career Track course. But in general, one of the most important things to determine is the **distribution of the data**.   "
   ]
  },
  {
   "cell_type": "code",
   "execution_count": 82,
   "metadata": {
    "colab": {},
    "colab_type": "code",
    "id": "bFwVhkeWFcvr"
   },
   "outputs": [
    {
     "data": {
      "text/plain": [
       "(0       4.0\n",
       " 1       4.0\n",
       " 2       3.5\n",
       " 3       4.0\n",
       " 4       4.5\n",
       "        ... \n",
       " 7192    4.5\n",
       " 7193    4.5\n",
       " 7194    4.5\n",
       " 7195    4.5\n",
       " 7196    5.0\n",
       " Name: Rating, Length: 6268, dtype: float64,\n",
       " 0        4.1\n",
       " 1        3.9\n",
       " 2        4.7\n",
       " 3        4.5\n",
       " 4        4.3\n",
       "         ... \n",
       " 10834    4.0\n",
       " 10836    4.5\n",
       " 10837    5.0\n",
       " 10839    4.5\n",
       " 10840    4.5\n",
       " Name: Rating, Length: 9366, dtype: float64)"
      ]
     },
     "execution_count": 82,
     "metadata": {},
     "output_type": "execute_result"
    }
   ],
   "source": [
    "# Create a subset of the column 'Rating' by the different platforms.\n",
    "# Call the subsets 'apple' and 'google' \n",
    "\n",
    "apple = df['Rating'][df['platform'] == 'apple']\n",
    "google = df[df['platform'] == 'google']['Rating']\n",
    "\n",
    "apple,google"
   ]
  },
  {
   "cell_type": "code",
   "execution_count": 83,
   "metadata": {
    "colab": {},
    "colab_type": "code",
    "id": "oPPFpwPvFcvu"
   },
   "outputs": [
    {
     "name": "stdout",
     "output_type": "stream",
     "text": [
      "NormaltestResult(statistic=1778.9974234584017, pvalue=0.0)\n"
     ]
    }
   ],
   "source": [
    "# Using the stats.normaltest() method, get an indication of whether the apple data are normally distributed\n",
    "# Save the result in a variable called apple_normal, and print it out\n",
    "apple_normal = stats.normaltest(apple)\n",
    "print(apple_normal)"
   ]
  },
  {
   "cell_type": "code",
   "execution_count": 84,
   "metadata": {
    "colab": {},
    "colab_type": "code",
    "id": "rCdh8a8KFcvw"
   },
   "outputs": [
    {
     "name": "stdout",
     "output_type": "stream",
     "text": [
      "NormaltestResult(statistic=3678.6157187516856, pvalue=0.0)\n"
     ]
    }
   ],
   "source": [
    "# Do the same with the google data. \n",
    "google_normal = stats.normaltest(google)\n",
    "print(google_normal)"
   ]
  },
  {
   "cell_type": "markdown",
   "metadata": {
    "colab_type": "text",
    "id": "9gDqu21yFcv0"
   },
   "source": [
    "Since the null hypothesis of the normaltest() is that the data are normally distributed, the lower the p-value in the result of this test, the more likely the data are to be non-normal. \n",
    "\n",
    "Since the p-values is 0 for both tests, regardless of what we pick for the significance level, our conclusion is that the data are not normally distributed. \n",
    "\n",
    "We can actually also check out the distribution of the data visually with a histogram. A normal distribution has the following visual characteristics:\n",
    "    - symmetric\n",
    "    - unimodal (one hump)\n",
    "As well as a roughly identical mean, median and mode. "
   ]
  },
  {
   "cell_type": "code",
   "execution_count": 85,
   "metadata": {
    "colab": {},
    "colab_type": "code",
    "id": "P9tT9RjNFcv1"
   },
   "outputs": [
    {
     "data": {
      "text/plain": [
       "Text(0, 0.5, 'Count')"
      ]
     },
     "execution_count": 85,
     "metadata": {},
     "output_type": "execute_result"
    },
    {
     "data": {
      "image/png": "[encoded data removed]",
      "text/plain": [
       "<Figure size 432x288 with 1 Axes>"
      ]
     },
     "metadata": {
      "needs_background": "light"
     },
     "output_type": "display_data"
    }
   ],
   "source": [
    "# Create a histogram of the apple reviews distribution\n",
    "\n",
    "plt.hist(apple,bins = 10)\n",
    "plt.xlabel('Rating')\n",
    "plt.ylabel('Count')"
   ]
  },
  {
   "cell_type": "code",
   "execution_count": 86,
   "metadata": {
    "colab": {},
    "colab_type": "code",
    "id": "8dE1uC5iFcv2"
   },
   "outputs": [
    {
     "data": {
      "text/plain": [
       "Text(0, 0.5, 'Count')"
      ]
     },
     "execution_count": 86,
     "metadata": {},
     "output_type": "execute_result"
    },
    {
     "data": {
      "image/png": "[encoded data removed]",
      "text/plain": [
       "<Figure size 432x288 with 1 Axes>"
      ]
     },
     "metadata": {
      "needs_background": "light"
     },
     "output_type": "display_data"
    }
   ],
   "source": [
    "# Create a histogram of the google data\n",
    "plt.hist(google,bins = 10)\n",
    "plt.xlabel('Rating')\n",
    "plt.ylabel('Count')"
   ]
  },
  {
   "cell_type": "markdown",
   "metadata": {
    "colab_type": "text",
    "id": "QhZV89FzFcv5"
   },
   "source": [
    "### 3c. Permutation test\n",
    "Since the data aren't normally distributed, we're using a *non-parametric* test here. This is simply a label for statistical tests used when the data aren't normally distributed. These tests are extraordinarily powerful due to how few assumptions we need to make.  \n",
    "\n",
    "Check out more about permutations [here.](http://rasbt.github.io/mlxtend/user_guide/evaluate/permutation_test/)"
   ]
  },
  {
   "cell_type": "code",
   "execution_count": 87,
   "metadata": {
    "colab": {},
    "colab_type": "code",
    "id": "bxNhQgpqFcv6"
   },
   "outputs": [
    {
     "data": {
      "text/html": [
       "<div>\n",
       "<style scoped>\n",
       "    .dataframe tbody tr th:only-of-type {\n",
       "        vertical-align: middle;\n",
       "    }\n",
       "\n",
       "    .dataframe tbody tr th {\n",
       "        vertical-align: top;\n",
       "    }\n",
       "\n",
       "    .dataframe thead th {\n",
       "        text-align: right;\n",
       "    }\n",
       "</style>\n",
       "<table border=\"1\" class=\"dataframe\">\n",
       "  <thead>\n",
       "    <tr style=\"text-align: right;\">\n",
       "      <th></th>\n",
       "      <th>count</th>\n",
       "      <th>mean</th>\n",
       "      <th>std</th>\n",
       "      <th>min</th>\n",
       "      <th>25%</th>\n",
       "      <th>50%</th>\n",
       "      <th>75%</th>\n",
       "      <th>max</th>\n",
       "    </tr>\n",
       "    <tr>\n",
       "      <th>platform</th>\n",
       "      <th></th>\n",
       "      <th></th>\n",
       "      <th></th>\n",
       "      <th></th>\n",
       "      <th></th>\n",
       "      <th></th>\n",
       "      <th></th>\n",
       "      <th></th>\n",
       "    </tr>\n",
       "  </thead>\n",
       "  <tbody>\n",
       "    <tr>\n",
       "      <th>apple</th>\n",
       "      <td>6268.0</td>\n",
       "      <td>4.137795</td>\n",
       "      <td>0.617907</td>\n",
       "      <td>1.0</td>\n",
       "      <td>4.0</td>\n",
       "      <td>4.3</td>\n",
       "      <td>4.5</td>\n",
       "      <td>5.0</td>\n",
       "    </tr>\n",
       "    <tr>\n",
       "      <th>google</th>\n",
       "      <td>9366.0</td>\n",
       "      <td>4.132799</td>\n",
       "      <td>0.609640</td>\n",
       "      <td>1.0</td>\n",
       "      <td>4.0</td>\n",
       "      <td>4.3</td>\n",
       "      <td>4.5</td>\n",
       "      <td>5.0</td>\n",
       "    </tr>\n",
       "  </tbody>\n",
       "</table>\n",
       "</div>"
      ],
      "text/plain": [
       "           count      mean       std  min  25%  50%  75%  max\n",
       "platform                                                     \n",
       "apple     6268.0  4.137795  0.617907  1.0  4.0  4.3  4.5  5.0\n",
       "google    9366.0  4.132799  0.609640  1.0  4.0  4.3  4.5  5.0"
      ]
     },
     "execution_count": 87,
     "metadata": {},
     "output_type": "execute_result"
    }
   ],
   "source": [
    "# Create a column called `Permutation1`, and assign to it the result of permuting (shuffling) the Rating column\n",
    "# This assignment will use our numpy object's random.permutation() method\n",
    "df['Permutation1'] = np.random.permutation(df['Rating'])\n",
    "df\n",
    "\n",
    "# Call the describe() method on our permutation grouped by 'platform'. \n",
    "df.groupby('platform')['Permutation1'].describe()"
   ]
  },
  {
   "cell_type": "code",
   "execution_count": 88,
   "metadata": {
    "colab": {},
    "colab_type": "code",
    "id": "AaGNfPGTFcv7"
   },
   "outputs": [
    {
     "data": {
      "text/html": [
       "<div>\n",
       "<style scoped>\n",
       "    .dataframe tbody tr th:only-of-type {\n",
       "        vertical-align: middle;\n",
       "    }\n",
       "\n",
       "    .dataframe tbody tr th {\n",
       "        vertical-align: top;\n",
       "    }\n",
       "\n",
       "    .dataframe thead th {\n",
       "        text-align: right;\n",
       "    }\n",
       "</style>\n",
       "<table border=\"1\" class=\"dataframe\">\n",
       "  <thead>\n",
       "    <tr style=\"text-align: right;\">\n",
       "      <th></th>\n",
       "      <th>count</th>\n",
       "      <th>mean</th>\n",
       "      <th>std</th>\n",
       "      <th>min</th>\n",
       "      <th>25%</th>\n",
       "      <th>50%</th>\n",
       "      <th>75%</th>\n",
       "      <th>max</th>\n",
       "    </tr>\n",
       "    <tr>\n",
       "      <th>platform</th>\n",
       "      <th></th>\n",
       "      <th></th>\n",
       "      <th></th>\n",
       "      <th></th>\n",
       "      <th></th>\n",
       "      <th></th>\n",
       "      <th></th>\n",
       "      <th></th>\n",
       "    </tr>\n",
       "  </thead>\n",
       "  <tbody>\n",
       "    <tr>\n",
       "      <th>apple</th>\n",
       "      <td>6268.0</td>\n",
       "      <td>4.049697</td>\n",
       "      <td>0.726943</td>\n",
       "      <td>1.0</td>\n",
       "      <td>4.0</td>\n",
       "      <td>4.5</td>\n",
       "      <td>4.5</td>\n",
       "      <td>5.0</td>\n",
       "    </tr>\n",
       "    <tr>\n",
       "      <th>google</th>\n",
       "      <td>9366.0</td>\n",
       "      <td>4.191757</td>\n",
       "      <td>0.515219</td>\n",
       "      <td>1.0</td>\n",
       "      <td>4.0</td>\n",
       "      <td>4.3</td>\n",
       "      <td>4.5</td>\n",
       "      <td>5.0</td>\n",
       "    </tr>\n",
       "  </tbody>\n",
       "</table>\n",
       "</div>"
      ],
      "text/plain": [
       "           count      mean       std  min  25%  50%  75%  max\n",
       "platform                                                     \n",
       "apple     6268.0  4.049697  0.726943  1.0  4.0  4.5  4.5  5.0\n",
       "google    9366.0  4.191757  0.515219  1.0  4.0  4.3  4.5  5.0"
      ]
     },
     "execution_count": 88,
     "metadata": {},
     "output_type": "execute_result"
    }
   ],
   "source": [
    "# Lets compare with the previous analytical summary:\n",
    "df.groupby('platform')['Rating'].describe()"
   ]
  },
  {
   "cell_type": "code",
   "execution_count": 89,
   "metadata": {
    "colab": {},
    "colab_type": "code",
    "id": "aJPNpX0JFcv-"
   },
   "outputs": [],
   "source": [
    "# The difference in the means for Permutation1 (0.001103) now looks hugely different to our observed difference of 0.14206. \n",
    "# It's sure starting to look like our observed difference is significant, and that the Null is false; platform does impact on ratings\n",
    "# But to be sure, let's create 10,000 permutations, calculate the mean ratings for Google and Apple apps and the difference between these for each one, and then take the average of all of these differences.\n",
    "# Let's create a vector with the differences - that will be the distibution of the Null.\n",
    "\n",
    "# First, make a list called difference.\n",
    "difference = list()\n",
    "\n",
    "# Now make a for loop that does the following 10,000 times:\n",
    "# 1. makes a permutation of the 'Rating' as you did above\n",
    "# 2. calculates the difference in the mean rating for apple and the mean rating for google. \n",
    "for i in range(10000):\n",
    "    permutation = np.random.permutation(df['Rating'])\n",
    "    result = np.mean(permutation[df['platform']=='apple']) - np.mean(permutation[df['platform'] == 'google'])\n",
    "    difference.append(result)"
   ]
  },
  {
   "cell_type": "code",
   "execution_count": 90,
   "metadata": {
    "colab": {},
    "colab_type": "code",
    "id": "VlzpYTkYFcv_"
   },
   "outputs": [
    {
     "data": {
      "image/png": "[encoded data removed]",
      "text/plain": [
       "<Figure size 432x288 with 1 Axes>"
      ]
     },
     "metadata": {
      "needs_background": "light"
     },
     "output_type": "display_data"
    }
   ],
   "source": [
    "# Make a variable called 'histo', and assign to it the result of plotting a histogram of the difference list. \n",
    "histo = plt.hist(difference,bins = 100)"
   ]
  },
  {
   "cell_type": "code",
   "execution_count": 91,
   "metadata": {},
   "outputs": [
    {
     "data": {
      "text/plain": [
       "[0.006273948964202525,\n",
       " -0.0016887107177030458,\n",
       " 0.00033524291381770155,\n",
       " -0.01559007644999344,\n",
       " 0.002092886856981835,\n",
       " -0.007361107079729479,\n",
       " 0.0008146003528635148,\n",
       " -0.00429854566361243,\n",
       " -0.015962910013693765,\n",
       " -0.0029137352841503983,\n",
       " -0.02062332955996027,\n",
       " 0.0063005799330380086,\n",
       " 0.013144738923839938,\n",
       " 0.0009477551970418219,\n",
       " 0.005315234086113563,\n",
       " 0.01788505137661378,\n",
       " 0.006114163151188734,\n",
       " 0.009949022663543694,\n",
       " 0.005767960556322116,\n",
       " -0.0009430435903006185,\n",
       " -0.009251905867071919,\n",
       " 0.002039624919309091,\n",
       " 0.005634805712142921,\n",
       " -0.0036860333803874212,\n",
       " 0.0006548145398479477,\n",
       " -0.013459598943128093,\n",
       " -0.013912325413337534,\n",
       " 0.015914359682764,\n",
       " -0.01335307506778527,\n",
       " 0.006380472839546236,\n",
       " -0.018785792710288796,\n",
       " 0.0064869967148890595,\n",
       " 0.0011874339165638403,\n",
       " -9.085258755536785e-05,\n",
       " 0.005767960556322116,\n",
       " -0.00325993787901524,\n",
       " -0.004964319884507518,\n",
       " -0.003552878536209114,\n",
       " 0.010428380102587731,\n",
       " -0.004911057946834774,\n",
       " -0.005283891510535987,\n",
       " -0.0038458191934021,\n",
       " 0.018071468158464832,\n",
       " -0.01881242367912428,\n",
       " 0.006913092216263017,\n",
       " -0.0013691390916736879,\n",
       " -0.006215975419789466,\n",
       " 0.014396394459121886,\n",
       " 0.003957054675487015,\n",
       " 0.0021461487946536906,\n",
       " -0.013086765379427767,\n",
       " 0.002226041701160142,\n",
       " -0.0103437755893383,\n",
       " -0.005070843759850341,\n",
       " 0.002865184953220634,\n",
       " 0.0026521372025340995,\n",
       " 0.008644105190589002,\n",
       " 0.004489674052203796,\n",
       " -0.0008631506837923908,\n",
       " 0.0011608029477283566,\n",
       " -0.01737435136199217,\n",
       " -0.015616707418828035,\n",
       " -0.01404548025751673,\n",
       " 0.00044176678916230117,\n",
       " -0.009118751022893612,\n",
       " -0.01122259756092081,\n",
       " -0.009731263306115068,\n",
       " -0.016735208109933453,\n",
       " -0.001315877154000944,\n",
       " -0.012314467283188968,\n",
       " -0.009864418150295151,\n",
       " -0.020676591497630348,\n",
       " 0.011653404669035083,\n",
       " -0.005550201198895266,\n",
       " -0.00523062957286502,\n",
       " -0.0004636861512565815,\n",
       " -0.0032066759413442725,\n",
       " 0.0029184468908916017,\n",
       " 0.0014803745737577145,\n",
       " -0.0067485947965062465,\n",
       " -0.011488907249278313,\n",
       " 0.00443641211453194,\n",
       " 0.016020883558106824,\n",
       " 0.004383150176860973,\n",
       " -0.009837787181459667,\n",
       " -0.0025142707516128127,\n",
       " 0.00907020069196296,\n",
       " 0.005794591525159376,\n",
       " 0.011520249824856776,\n",
       " 0.009869129757036355,\n",
       " 0.006220687026531557,\n",
       " 0.018843766254702743,\n",
       " 0.0030249707662362013,\n",
       " -0.007893726456444483,\n",
       " 0.005501650867964614,\n",
       " -0.007494261923907786,\n",
       " 0.003317911423428299,\n",
       " 0.009975653632379178,\n",
       " -0.007494261923907786,\n",
       " -0.00879917939686159,\n",
       " -0.006322499295132289,\n",
       " -0.008666024552682394,\n",
       " 0.007419080624143426,\n",
       " 0.008058223876200366,\n",
       " 0.0033179114234291873,\n",
       " 0.0017999461997870725,\n",
       " -0.0004636861512565815,\n",
       " 0.0029450778597270855,\n",
       " -0.004804534071491062,\n",
       " -0.0021946991255834547,\n",
       " -0.0068817496406845535,\n",
       " -0.012953610535248572,\n",
       " -0.003792557255732021,\n",
       " 0.01290506020431792,\n",
       " 0.005554912805635581,\n",
       " -0.023126640630524165,\n",
       " 0.0013472197295794075,\n",
       " -0.011835109844144043,\n",
       " 0.0032646494857564434,\n",
       " 0.011174047229991935,\n",
       " -0.008106774207131018,\n",
       " 0.015008906742346895,\n",
       " -0.007148059329042056,\n",
       " -0.003792557255732021,\n",
       " -0.0023544849385981337,\n",
       " 0.007259294811126971,\n",
       " 0.00020208806963939452,\n",
       " -0.003419723692029919,\n",
       " -0.009811156212623295,\n",
       " -0.014365051883546087,\n",
       " -0.006402392201640517,\n",
       " -0.0036327714427164537,\n",
       " -0.0033131998166870957,\n",
       " 0.012878429235482436,\n",
       " -0.013140027317099623,\n",
       " 0.005395126992620014,\n",
       " -0.005017581822178485,\n",
       " 0.00922998650497675,\n",
       " -0.009385060711250226,\n",
       " 0.0023325655765047415,\n",
       " 0.013357786674526473,\n",
       " -0.0009963055279733624,\n",
       " -0.009305167804742887,\n",
       " -0.011861740812979527,\n",
       " -0.02240760447195811,\n",
       " -0.012687300846889293,\n",
       " -0.008985596178713529,\n",
       " -0.00975789427495144,\n",
       " -0.0031534140036724168,\n",
       " 0.01982911210162719,\n",
       " -0.010556823340025723,\n",
       " 0.013730620238228575,\n",
       " 0.002838553984384262,\n",
       " -0.016468898421575062,\n",
       " -0.007574154830416013,\n",
       " -0.010849763997219597,\n",
       " 0.01599425258927134,\n",
       " -0.028426203428850272,\n",
       " -0.005683356043073573,\n",
       " -0.009518215555429421,\n",
       " -0.014498206727724394,\n",
       " 0.009443034255662397,\n",
       " 0.008084854845037626,\n",
       " 0.011493618856021293,\n",
       " -0.004618117289641788,\n",
       " 0.022518839954043912,\n",
       " -0.004671379227313643,\n",
       " -0.005044212791013969,\n",
       " -0.009038858116384496,\n",
       " -0.004671379227312755,\n",
       " 0.010428380102587731,\n",
       " 0.0050222934289196886,\n",
       " 0.0036108520806221733,\n",
       " 0.006620151559068255,\n",
       " -0.018626006897275005,\n",
       " -0.021049425061333338,\n",
       " -0.001475662967015623,\n",
       " 0.004622828896383879,\n",
       " -0.005976296700266559,\n",
       " 0.003371173361101043,\n",
       " -0.008053512269460938,\n",
       " 0.015807835807421178,\n",
       " 0.015381740306048108,\n",
       " -0.01087639496605508,\n",
       " -0.007494261923908674,\n",
       " 0.0036108520806221733,\n",
       " -0.021129317967840677,\n",
       " 0.018257884940314995,\n",
       " 0.0017999461997879607,\n",
       " 0.0073125567487997145,\n",
       " -0.007760571612265288,\n",
       " -0.00038379324474835386,\n",
       " 0.018604087535179836,\n",
       " 0.011227309167662014,\n",
       " 0.002039624919309979,\n",
       " -0.0036061404738800817,\n",
       " 0.0001488261319675388,\n",
       " 0.007951700000859319,\n",
       " -0.002647425595792008,\n",
       " -0.017773815894527978,\n",
       " -0.00839971486432578,\n",
       " 0.010934368510469028,\n",
       " 0.002066255888145463,\n",
       " -0.0031800449725079005,\n",
       " 0.0116267737001996,\n",
       " 0.011147416261154675,\n",
       " -0.005523570230059782,\n",
       " 0.010455011071424103,\n",
       " 0.014822489960494956,\n",
       " -0.0036860333803883094,\n",
       " 0.0026255062336977275,\n",
       " 0.02667327109242912,\n",
       " -0.007760571612265288,\n",
       " -0.010317144620502816,\n",
       " -0.00017074549406181916,\n",
       " 0.013304524736856393,\n",
       " -0.018253173333572903,\n",
       " -0.025576689763419758,\n",
       " 0.0008146003528626267,\n",
       " 0.016446979059479894,\n",
       " -0.014125373164024069,\n",
       " -0.012287836314352596,\n",
       " 0.0044630430833692,\n",
       " 0.0108544756039608,\n",
       " -0.012687300846888405,\n",
       " 0.020841088917388007,\n",
       " 0.005341865054949935,\n",
       " -0.0032333069101797562,\n",
       " -0.015110719010949403,\n",
       " 0.0018532081374598164,\n",
       " -0.0008098887461223114,\n",
       " -0.0015022939358519949,\n",
       " 0.010987630448139996,\n",
       " 0.013624096362884863,\n",
       " 0.0011874339165638403,\n",
       " 0.004356519208024601,\n",
       " 0.017672003625927246,\n",
       " -0.007893726456444483,\n",
       " 0.005395126992620902,\n",
       " 0.017006229405033046,\n",
       " -0.00941169168008571,\n",
       " -0.008160036144803762,\n",
       " 0.017325801031061516,\n",
       " -0.011435645311607345,\n",
       " -0.0021680681567470828,\n",
       " -0.00712142836020746,\n",
       " 0.009602820068677964,\n",
       " 0.019695957257447994,\n",
       " -0.008559500677339571,\n",
       " 0.011174047229991935,\n",
       " -0.005283891510537764,\n",
       " 0.006380472839546236,\n",
       " -0.005683356043073573,\n",
       " 0.004622828896382991,\n",
       " -0.0030202591594932215,\n",
       " 0.0001488261319675388,\n",
       " -0.004218652757103314,\n",
       " 0.0216400179824614,\n",
       " -0.0090122271475499,\n",
       " 0.003664114018293141,\n",
       " 0.005874484431665827,\n",
       " 0.006593520590232771,\n",
       " -0.021981508970586816,\n",
       " 0.013517572487541152,\n",
       " 0.006966354153933985,\n",
       " -0.012128050501338805,\n",
       " -0.005630094105401717,\n",
       " 0.011946345326228958,\n",
       " 0.0216400179824614,\n",
       " 0.011919714357393474,\n",
       " 0.005608174743307437,\n",
       " 0.005767960556323004,\n",
       " -0.0072013212667139115,\n",
       " 0.016047514526944084,\n",
       " -0.02480439166718007,\n",
       " 0.01050827300909507,\n",
       " 0.028191236316070345,\n",
       " -0.0015555558735229624,\n",
       " -0.003606140473881858,\n",
       " -0.017507506206170476,\n",
       " 0.008830521972439165,\n",
       " 0.0008412313216981104,\n",
       " 0.012265916952258316,\n",
       " 0.010295225258409424,\n",
       " 0.007179401904620519,\n",
       " -0.0111160736855771,\n",
       " -0.005044212791013969,\n",
       " -0.01053019237118935,\n",
       " 0.008510950346410695,\n",
       " 0.007312556748798826,\n",
       " 0.01394366798891511,\n",
       " -0.0026474255957911197,\n",
       " -0.008399714864324892,\n",
       " 0.004063578550831615,\n",
       " 0.006007639275844134,\n",
       " 0.004835876647069526,\n",
       " 0.012958322141989775,\n",
       " -0.0033664617543580633,\n",
       " 0.015461633212555448,\n",
       " 0.0032912804545928154,\n",
       " -0.00581651088725188,\n",
       " -0.01945156693118477,\n",
       " 0.0029450778597270855,\n",
       " 0.0027852920467115183,\n",
       " 0.00880389100360457,\n",
       " -0.007121428360206572,\n",
       " 0.01000228460121555,\n",
       " 0.0019863629816390116,\n",
       " -0.003366461754357175,\n",
       " -0.00011748355639085162,\n",
       " -0.007361107079729479,\n",
       " -0.011781847906473075,\n",
       " -0.013113396348263251,\n",
       " 0.01471596608515302,\n",
       " -0.005124105697522197,\n",
       " -0.005949665731431963,\n",
       " -0.010663347215369434,\n",
       " 0.004170102426172662,\n",
       " 0.001533636511428682,\n",
       " 0.01444965639679463,\n",
       " -0.008612762615013203,\n",
       " 0.003770637893635964,\n",
       " 0.0122925479210938,\n",
       " -0.0129269795664122,\n",
       " -0.010317144620504592,\n",
       " 0.0011608029477283566,\n",
       " -0.004032235975252263,\n",
       " 0.004010316613159759,\n",
       " 0.00219941073232377,\n",
       " 0.019296492724910408,\n",
       " 0.0036108520806221733,\n",
       " -0.008666024552683282,\n",
       " -0.001022936496807958,\n",
       " -0.0016887107177021576,\n",
       " 0.01658013390365909,\n",
       " 0.001560267480265054,\n",
       " -0.016202588733216672,\n",
       " 0.0033179114234291873,\n",
       " -0.008692655521519654,\n",
       " 0.018231253971478623,\n",
       " 0.0015070055425931983,\n",
       " 0.0030782327039062807,\n",
       " -0.00419202178826783,\n",
       " -0.0005968409954340004,\n",
       " -0.002274592032089906,\n",
       " 0.007419080624142538,\n",
       " 0.0031314946415781364,\n",
       " 0.009949022663543694,\n",
       " -0.010849763997218709,\n",
       " 0.011520249824857665,\n",
       " -0.0016088178111948181,\n",
       " -0.015696600325335375,\n",
       " 0.010934368510469028,\n",
       " -0.007893726456445371,\n",
       " 0.012345809858766543,\n",
       " -0.01266066987805381,\n",
       " -0.004431700507790737,\n",
       " 0.010561534946766926,\n",
       " -0.026242463984314846,\n",
       " 0.0017999461997888488,\n",
       " 0.008484319377575211,\n",
       " 0.0064603657460526875,\n",
       " 0.012399071796439287,\n",
       " -0.0017686036242094971,\n",
       " 0.006194056057695185,\n",
       " -0.002141437187910711,\n",
       " 0.015648049994404722,\n",
       " -0.005869772824923736,\n",
       " -0.009198643929399175,\n",
       " 0.009815867819365387,\n",
       " 0.006726675434411966,\n",
       " -0.009118751022891836,\n",
       " 0.003797268862472336,\n",
       " -0.0014224010293455436,\n",
       " -0.004884426978000178,\n",
       " -0.020703222466467608,\n",
       " -0.0030202591594932215,\n",
       " -0.0004903171200911771,\n",
       " -0.011595431124622024,\n",
       " -0.0034996165985381467,\n",
       " -0.0026207946269547477,\n",
       " -0.0013691390916736879,\n",
       " 0.011174047229991935,\n",
       " 0.011174047229991935,\n",
       " 0.006886461247426645,\n",
       " -0.01572323129417086,\n",
       " 0.016233931308794247,\n",
       " 0.01820462300264314,\n",
       " 0.0001488261319675388,\n",
       " 0.003051601735071685,\n",
       " -0.005017581822178485,\n",
       " -0.006642070921162535,\n",
       " -0.009411691680086598,\n",
       " 0.009070200691962071,\n",
       " -0.0008897816526278746,\n",
       " 0.008537581315247067,\n",
       " -0.0046447482584772715,\n",
       " 0.012132762108080897,\n",
       " -0.010689978184204918,\n",
       " -0.007840464518773516,\n",
       " 0.013464310549870184,\n",
       " -0.016894993922947243,\n",
       " 0.0010276481035500495,\n",
       " 0.015035537711183267,\n",
       " -0.014524837696559878,\n",
       " -0.004298545663610653,\n",
       " 0.0011341719788910964,\n",
       " -0.009411691680086598,\n",
       " -0.007680678705758837,\n",
       " -0.021102686999003417,\n",
       " -0.01625585067088675,\n",
       " -0.02733433370658389,\n",
       " 0.0016135294179369097,\n",
       " -0.005709987011909057,\n",
       " 0.010295225258409424,\n",
       " 0.008990307785454732,\n",
       " 0.01016207041422934,\n",
       " -0.003100152066000561,\n",
       " -0.010583454308861207,\n",
       " 0.0003086119449822178,\n",
       " -0.019025471429811702,\n",
       " -0.001528924904689255,\n",
       " -0.0047779031026555785,\n",
       " -0.005656725074237201,\n",
       " 0.0003618738826540735,\n",
       " -0.0010761984344789255,\n",
       " 0.021134029574580993,\n",
       " 0.007738652250171896,\n",
       " 0.016846443592019256,\n",
       " -0.00712142836020746,\n",
       " -0.022833699973332067,\n",
       " 0.008084854845038514,\n",
       " 0.016793181654345624,\n",
       " -0.01095628787256242,\n",
       " 0.005688067649816553,\n",
       " -0.009198643929400063,\n",
       " 0.0050489243977560605,\n",
       " 0.011120785292320079,\n",
       " 0.023903650333505944,\n",
       " -0.005869772824923736,\n",
       " 0.004569566958711135,\n",
       " -0.006002927669102931,\n",
       " 0.007206032873456003,\n",
       " 0.013277893768019133,\n",
       " 0.016633395841331833,\n",
       " 0.0037972688624732243,\n",
       " 0.0038771617689805637,\n",
       " 0.0029184468908907135,\n",
       " -0.00523062957286502,\n",
       " -0.00198165137489692,\n",
       " -0.01455146866539625,\n",
       " 0.023371030956789163,\n",
       " 0.018391039784495078,\n",
       " 0.005874484431665827,\n",
       " 0.002226041701160142,\n",
       " -0.009251905867071919,\n",
       " 0.0011075410100565009,\n",
       " -0.0067485947965062465,\n",
       " 0.016899705529689335,\n",
       " -0.006588808983490679,\n",
       " 0.013544203456377524,\n",
       " 0.022518839954043024,\n",
       " -0.0070681664225356045,\n",
       " 0.011067523354647335,\n",
       " -0.004751272133820095,\n",
       " -0.0002240074317327867,\n",
       " 0.0039304237066524195,\n",
       " 0.023051459330759805,\n",
       " 0.008484319377575211,\n",
       " 0.009256617473811346,\n",
       " -0.0002772693694046424,\n",
       " -0.014018849288681245,\n",
       " 0.0029184468908916017,\n",
       " 0.00701961609160584,\n",
       " 0.01026859428957394,\n",
       " -0.00523062957286502,\n",
       " -0.006215975419789466,\n",
       " -0.0017686036242103853,\n",
       " -0.0012093532786572325,\n",
       " -0.01029051365166822,\n",
       " -0.003286568847851612,\n",
       " 0.0011874339165647285,\n",
       " 0.0006814455086843196,\n",
       " -0.002434377845105473,\n",
       " 0.0398023387284816,\n",
       " 0.007765283219008268,\n",
       " -0.00549693926122341,\n",
       " 0.0064869967148890595,\n",
       " 0.007126139966948664,\n",
       " -0.005843141856088252,\n",
       " -0.007787202581102548,\n",
       " -0.030769728686400377,\n",
       " 0.009789236850528127,\n",
       " -0.00453822438313356,\n",
       " -0.012021526625994206,\n",
       " 0.002412458483011193,\n",
       " -0.0072013212667139115,\n",
       " -0.015563445481157068,\n",
       " 0.0024923513895185323,\n",
       " -0.0005169480889275491,\n",
       " -0.014365051883546087,\n",
       " 0.013011584079661631,\n",
       " 0.007072878029276808,\n",
       " 0.004036947581996131,\n",
       " 0.012106131139244525,\n",
       " 0.0019863629816390116,\n",
       " 0.009443034255663285,\n",
       " 0.010827844635126205,\n",
       " -0.008772548428026994,\n",
       " 0.01839103978449419,\n",
       " 0.004596197927546619,\n",
       " 0.0052087102107707395,\n",
       " -0.00685511867184907,\n",
       " 0.00219941073232377,\n",
       " 0.00033524291381770155,\n",
       " 0.0006814455086843196,\n",
       " -0.018120018489394596,\n",
       " -0.008452976801997636,\n",
       " -0.012740562784561149,\n",
       " -0.010796502059547741,\n",
       " -0.015643338387664407,\n",
       " -0.009464953617758454,\n",
       " -0.016974886829453695,\n",
       " -0.000543579057763921,\n",
       " -3.759064988262395e-05,\n",
       " 0.005927746369336795,\n",
       " -0.004298545663610653,\n",
       " -0.0033664617543589515,\n",
       " 0.00872399809709723,\n",
       " -0.011062811747906132,\n",
       " -0.0001973764628981911,\n",
       " -0.01119596659208355,\n",
       " -0.0004370551824202096,\n",
       " 1.567128778923177e-05,\n",
       " -0.002753949471133943,\n",
       " -0.004378438570118881,\n",
       " 0.01506216868001875,\n",
       " 0.019189968849567585,\n",
       " -0.0031800449725087887,\n",
       " -0.005390415385879699,\n",
       " 0.004010316613159759,\n",
       " 4.230225662471554e-05,\n",
       " 0.005235341179606223,\n",
       " -0.003446354660867179,\n",
       " -0.0024077468762691012,\n",
       " -0.011595431124622912,\n",
       " -0.0005169480889266609,\n",
       " -0.008692655521519654,\n",
       " 0.0016667913556087655,\n",
       " 0.009123462629633927,\n",
       " -0.015909648076022798,\n",
       " 0.012345809858765655,\n",
       " -0.013805801537992934,\n",
       " 0.003850530800144192,\n",
       " -0.01218131243901066,\n",
       " 0.0016667913556078773,\n",
       " -0.014764516416082785,\n",
       " -0.016921624891782727,\n",
       " -0.007068166422534716,\n",
       " 0.007099508998112292,\n",
       " 0.0016401603867723935,\n",
       " 0.010321856227245796,\n",
       " 0.005261972148440819,\n",
       " -0.009012227147548124,\n",
       " -0.00163544878003119,\n",
       " 0.011520249824855888,\n",
       " 0.010907737541631768,\n",
       " 0.004809245678234042,\n",
       " 0.015195323524197057,\n",
       " 0.003823899831308708,\n",
       " 0.00872399809709723,\n",
       " -0.004484962445463481,\n",
       " -0.0111160736855771,\n",
       " -0.011941633719487754,\n",
       " -0.003978974037582184,\n",
       " 0.002891815922056118,\n",
       " 0.007871807094351979,\n",
       " 0.00315812561041362,\n",
       " 0.01623393130879336,\n",
       " 0.015248585461868913,\n",
       " 0.005874484431665827,\n",
       " 0.0029450778597270855,\n",
       " -0.011675324031128476,\n",
       " 0.0014004816672512632,\n",
       " 0.005634805712142921,\n",
       " 0.005182079241935256,\n",
       " -0.00866602455268417,\n",
       " 0.0005216596956705288,\n",
       " -0.002594163658120152,\n",
       " -0.00291373528414951,\n",
       " -0.00677522576534173,\n",
       " 0.008271271626887788,\n",
       " 0.014556180272137453,\n",
       " 0.003823899831309596,\n",
       " -0.008186667113639245,\n",
       " 0.01146698788718492,\n",
       " 0.006407103808382608,\n",
       " -0.023126640630524165,\n",
       " 0.011493618856020404,\n",
       " 0.0019863629816390116,\n",
       " 0.0077120212813373,\n",
       " -0.002940366252985882,\n",
       " -0.0017419726553740134,\n",
       " -0.0072013212667139115,\n",
       " 0.009336510380320462,\n",
       " -0.001022936496807958,\n",
       " 0.0006015526021769801,\n",
       " -0.011488907249278313,\n",
       " -0.01625585067088675,\n",
       " -0.012101419532502433,\n",
       " -0.0072013212667139115,\n",
       " -0.01756076814384233,\n",
       " -0.004591486320805416,\n",
       " 0.023024828361923433,\n",
       " -0.0020349133125678875,\n",
       " 0.0033179114234291873,\n",
       " 0.027658616939353564,\n",
       " 0.001906470075131672,\n",
       " -0.007840464518773516,\n",
       " 0.004249995332682666,\n",
       " 0.011147416261154675,\n",
       " -0.005257260541700504,\n",
       " 0.014609442209809309,\n",
       " -0.01686836295411176,\n",
       " 0.009443034255664173,\n",
       " 0.005182079241935256,\n",
       " -0.01327318216127793,\n",
       " -0.01593627904485828,\n",
       " 0.0029184468908907135,\n",
       " 0.004862507615905898,\n",
       " -0.002434377845104585,\n",
       " -0.020863008279482287,\n",
       " 0.007099508998112292,\n",
       " -0.008080143238295534,\n",
       " 0.019562802413269686,\n",
       " 0.006513627683724543,\n",
       " -0.008772548428026994,\n",
       " 0.010135439445393857,\n",
       " 0.0018265771686234444,\n",
       " -0.015776493231842714,\n",
       " 0.01016207041422934,\n",
       " 0.0028119230155487784,\n",
       " -0.0018484965307177248,\n",
       " -0.003126783034836045,\n",
       " -0.010343775589339188,\n",
       " 0.009123462629633039,\n",
       " 0.00949629619333514,\n",
       " -0.009251905867071919,\n",
       " 0.008484319377575211,\n",
       " 0.028351022129085024,\n",
       " -0.00427191469477517,\n",
       " 0.0003086119449822178,\n",
       " 0.010534903977931442,\n",
       " 0.0039037927378160475,\n",
       " -0.004112128881762267,\n",
       " -0.0019283894372259525,\n",
       " 0.009096831660798443,\n",
       " -0.011435645311606457,\n",
       " 0.0074723425618143935,\n",
       " -0.0029936281906568496,\n",
       " 0.00667341349674011,\n",
       " 0.0048891385847413815,\n",
       " -0.0012359842474936045,\n",
       " 0.005901115400502199,\n",
       " 9.556419429657126e-05,\n",
       " 0.002252672669996514,\n",
       " 0.0011874339165638403,\n",
       " -0.0058964037937592195,\n",
       " 0.008937045847782876,\n",
       " -0.0038724501622393603,\n",
       " -0.009784525243786923,\n",
       " -0.014791147384918268,\n",
       " -0.004271914694776058,\n",
       " 0.0027586610778769227,\n",
       " 0.007978330969694802,\n",
       " -0.013406337005456237,\n",
       " 0.0002020880696402827,\n",
       " 0.0248889961804295,\n",
       " -0.0027006875334638636,\n",
       " 0.009203355536140378,\n",
       " 0.018950290130044678,\n",
       " -0.015110719010948515,\n",
       " 0.004835876647068638,\n",
       " 0.009043569723127476,\n",
       " -0.009305167804742887,\n",
       " -0.004458331476625332,\n",
       " 0.0001754571008021344,\n",
       " 0.016020883558106824,\n",
       " -0.004271914694776946,\n",
       " -0.013299813130113414,\n",
       " 0.006939723185098501,\n",
       " 0.011999607263900813,\n",
       " 0.011706666606706051,\n",
       " -0.015217242886291338,\n",
       " 0.00640710380838172,\n",
       " 0.02206611348383536,\n",
       " -0.0063491302639668845,\n",
       " 0.01793831331428386,\n",
       " -0.009092120054056352,\n",
       " -0.007654047736923353,\n",
       " -0.0018484965307168366,\n",
       " -0.0012359842474936045,\n",
       " 0.007365818686469794,\n",
       " -0.010450299464683788,\n",
       " 0.009336510380320462,\n",
       " 0.006220687026532445,\n",
       " 0.00856421228408255,\n",
       " -0.0045914863208045276,\n",
       " 0.015967621620435857,\n",
       " -1.0959681045363823e-05,\n",
       " -0.0057632489495809125,\n",
       " 0.008510950346410695,\n",
       " -0.01308676537942599,\n",
       " -0.00831982195781844,\n",
       " 0.0005482906645051244,\n",
       " -0.00650891607698334,\n",
       " -0.00030390033824101437,\n",
       " -0.0056034631365662335,\n",
       " 0.005341865054949935,\n",
       " -0.0017419726553749015,\n",
       " 0.004622828896383879,\n",
       " -0.018599375928438633,\n",
       " -0.002114806219075227,\n",
       " -0.004005605006417667,\n",
       " 0.014076822833092528,\n",
       " -0.013832432506829306,\n",
       " 0.004782614709398558,\n",
       " 0.0022526726699956257,\n",
       " 0.006859830278590273,\n",
       " -0.0006234719642703723,\n",
       " 0.02179980379547697,\n",
       " -0.010077465900981686,\n",
       " 0.005554912805635581,\n",
       " -0.0025675326892846684,\n",
       " 0.020148683727657435,\n",
       " 0.0017999461997879607,\n",
       " 0.012079500170408153,\n",
       " -0.005230629572865908,\n",
       " -0.013965587351008502,\n",
       " 0.0009477551970418219,\n",
       " 0.0021727797634891743,\n",
       " 0.011280571105334758,\n",
       " -0.001821865561882241,\n",
       " 0.010934368510469028,\n",
       " -0.0036860333803874212,\n",
       " 0.0006281835710133521,\n",
       " 0.01359746539404938,\n",
       " 0.00443641211453194,\n",
       " -0.004245283725939686,\n",
       " 0.005767960556322116,\n",
       " 0.005608174743306549,\n",
       " 0.0039037927378169357,\n",
       " -0.009092120054056352,\n",
       " -0.0018751274995540967,\n",
       " 0.0011874339165629522,\n",
       " 0.006220687026532445,\n",
       " 0.009256617473813122,\n",
       " 0.010721320759782493,\n",
       " 0.015621419025570127,\n",
       " 0.006247317995367041,\n",
       " -0.005124105697522197,\n",
       " -0.006109451544446642,\n",
       " 0.013118107955005343,\n",
       " 0.0022793036388319976,\n",
       " -0.005390415385878811,\n",
       " -0.029704489932968592,\n",
       " 0.001400481667250375,\n",
       " 0.00222604170116103,\n",
       " -0.0013957700605082834,\n",
       " -0.01130249046742815,\n",
       " -0.008879072303369817,\n",
       " 0.007871807094351091,\n",
       " 0.002385827514174821,\n",
       " 0.008324533564560532,\n",
       " -0.011781847906473075,\n",
       " -0.00845297680199586,\n",
       " -0.004831165040327434,\n",
       " -0.007787202581102548,\n",
       " 0.013011584079661631,\n",
       " 0.009762605881692643,\n",
       " 0.001080910041221017,\n",
       " -0.024431558103479745,\n",
       " -0.003739295318059277,\n",
       " 0.0010542790723846451,\n",
       " -0.006615439952325275,\n",
       " 0.008351164533396016,\n",
       " -0.0030735210971650773,\n",
       " -0.0037126643492246814,\n",
       " -0.012873717628739456,\n",
       " -0.012021526625995094,\n",
       " -0.01849285205309581,\n",
       " -0.014444944790053427,\n",
       " 0.001693422324443361,\n",
       " -0.012207943407844368,\n",
       " -0.003126783034836933,\n",
       " 0.010801213666289833,\n",
       " -0.0063491302639668845,\n",
       " -0.02054343665345204,\n",
       " -0.012447622127369051,\n",
       " -0.004564855351969044,\n",
       " -0.011329121436263634,\n",
       " -0.0054703082923879265,\n",
       " 0.007046247060442212,\n",
       " -0.015883017107186426,\n",
       " -0.009331798773579258,\n",
       " 0.0011608029477283566,\n",
       " 0.004036947581995243,\n",
       " -0.014178635101695924,\n",
       " 0.0050489243977560605,\n",
       " -0.00770730967459432,\n",
       " -0.014844409322590124,\n",
       " 0.0002553500073121384,\n",
       " -0.0019017584683895805,\n",
       " -0.01796023267637903,\n",
       " -0.0007832577772850513,\n",
       " 0.02233242317219286,\n",
       " -0.011488907249277425,\n",
       " 0.011333833043005725,\n",
       " -0.004245283725940574,\n",
       " 0.005155448273099772,\n",
       " 0.023184614174939,\n",
       " 0.008138116782708593,\n",
       " -0.01250088406503913,\n",
       " -0.0052838915105368756,\n",
       " 0.004942400522412349,\n",
       " 0.004383150176860973,\n",
       " 0.0029983397973998294,\n",
       " 0.0018798391062953002,\n",
       " 0.0017200532932815094,\n",
       " -0.003686033380386533,\n",
       " 0.01221265501458646,\n",
       " 0.005714698618651148,\n",
       " -0.004857796009164694,\n",
       " -0.011355752405100006,\n",
       " 0.005901115400501311,\n",
       " -0.007281214173222139,\n",
       " 0.004676090834053959,\n",
       " 0.0018265771686234444,\n",
       " 0.01181319048205065,\n",
       " -0.006668701889998019,\n",
       " 0.0015602674802659422,\n",
       " -0.014817778353753752,\n",
       " 0.02267862576705859,\n",
       " -0.018599375928438633,\n",
       " -0.0005968409954340004,\n",
       " -0.004911057946834774,\n",
       " -0.0029669972218204776,\n",
       " -0.003259937879014352,\n",
       " -0.0030202591594923334,\n",
       " -0.0044583314766262205,\n",
       " 0.0032646494857573316,\n",
       " -0.014604730603068994,\n",
       " -0.019637983713034934,\n",
       " 0.010295225258409424,\n",
       " -0.0030202591594923334,\n",
       " 0.0031314946415772482,\n",
       " -0.00230122300092539,\n",
       " -0.012101419532502433,\n",
       " 0.005554912805634693,\n",
       " -0.005017581822178485,\n",
       " -0.010583454308860318,\n",
       " 0.013464310549870184,\n",
       " 0.0048891385847413815,\n",
       " 0.0029717088285625692,\n",
       " -0.006269237357461321,\n",
       " -0.013379706036620753,\n",
       " -0.0016088178111948181,\n",
       " 0.009629451037514336,\n",
       " -0.01122259756092081,\n",
       " 0.006913092216263017,\n",
       " -0.012953610535247684,\n",
       " 0.0034244352987720106,\n",
       " -0.004990950853343001,\n",
       " 0.000281980976146734,\n",
       " 0.0037173759559658848,\n",
       " 0.009629451037513448,\n",
       " -0.00616271348211761,\n",
       " 0.0032380185169209597,\n",
       " -0.002780580439970315,\n",
       " 0.0035309591741139457,\n",
       " -0.005044212791013969,\n",
       " 0.00701961609160584,\n",
       " 0.004276626301518149,\n",
       " 0.01215939307691638,\n",
       " 0.0029184468908916017,\n",
       " 0.004356519208024601,\n",
       " -0.015510183543485212,\n",
       " 0.01804483718962846,\n",
       " -0.01678847004760442,\n",
       " -0.002540901720450073,\n",
       " 0.006939723185097613,\n",
       " 0.0037706378936377405,\n",
       " -0.005097474728685825,\n",
       " 0.006753306403248338,\n",
       " -0.008239929051311101,\n",
       " 0.009416403286827801,\n",
       " -0.01918525724282638,\n",
       " -0.006002927669102931,\n",
       " -0.0028604733464785426,\n",
       " 0.03149347645170941,\n",
       " -0.011116073685576211,\n",
       " -0.008772548428026994,\n",
       " -0.020170603089751715,\n",
       " -0.01404548025751673,\n",
       " 0.01154688079369226,\n",
       " -0.0028604733464776544,\n",
       " 0.008084854845038514,\n",
       " -0.012261205345517112,\n",
       " 0.012692012453631385,\n",
       " -0.008319821957817553,\n",
       " -0.012128050501337917,\n",
       " -0.0020881752502397433,\n",
       " 0.0068065683409184174,\n",
       " -0.0007566268084504557,\n",
       " 0.005847853462830344,\n",
       " 0.009176724567305783,\n",
       " 0.00012219516313205503,\n",
       " -0.008879072303369817,\n",
       " 0.015195323524197946,\n",
       " -0.00230122300092539,\n",
       " -0.002354484938599022,\n",
       " -0.009544846524264017,\n",
       " -0.005257260541700504,\n",
       " 0.00675330640324745,\n",
       " 0.015514895150226415,\n",
       " -0.005896403793760108,\n",
       " -0.0016620797488666739,\n",
       " 0.02662000915475815,\n",
       " -0.0021680681567470828,\n",
       " 0.006566889621397287,\n",
       " 0.0036108520806221733,\n",
       " -0.010343775589340076,\n",
       " 0.003557590142951206,\n",
       " -0.015456921605814244,\n",
       " -0.005523570230058006,\n",
       " 0.008697367128260858,\n",
       " 0.003504328205278462,\n",
       " -0.016122695826709332,\n",
       " -0.002487639782777329,\n",
       " 0.007392449655307054,\n",
       " -0.004990950853342113,\n",
       " -0.007520892892745046,\n",
       " -0.02144888959386826,\n",
       " 0.001240695854235696,\n",
       " -0.012554146002711875,\n",
       " -0.001342508122837316,\n",
       " -0.023579367100733606,\n",
       " -0.0012359842474936045,\n",
       " 0.015195323524197057,\n",
       " 0.009229986504977639,\n",
       " -0.013246551192441558,\n",
       " -0.003286568847850724,\n",
       " -0.00022400743173367488,\n",
       " -0.004724641164984611,\n",
       " 0.006753306403248338,\n",
       " -0.026908238205209045,\n",
       " 0.005874484431665827,\n",
       " 0.0060342702446813945,\n",
       " 0.013277893768020022,\n",
       " -0.0059230347625955915,\n",
       " 0.0057945915251576,\n",
       " 0.0038771617689805637,\n",
       " -0.009464953617756677,\n",
       " 0.013411048612199217,\n",
       " -0.0028072114088057987,\n",
       " -0.011968264688324126,\n",
       " -0.007680678705759725,\n",
       " 0.0043565192080237125,\n",
       " 0.012052869201572669,\n",
       " -0.0013957700605091716,\n",
       " -0.005337153448208731,\n",
       " -0.0004104242135838376,\n",
       " -0.016415636483903207,\n",
       " 0.019562802413269686,\n",
       " -0.002274592032089906,\n",
       " -0.003419723692029919,\n",
       " -0.0020082823437324038,\n",
       " 0.014076822833093416,\n",
       " 0.007898438063186575,\n",
       " -0.006322499295132289,\n",
       " 0.029389629913682214,\n",
       " 0.0017466842621169931,\n",
       " 0.023131352237268032,\n",
       " -0.025150594262046688,\n",
       " -0.007254583204386655,\n",
       " 0.012478964702945738,\n",
       " 0.00938977231799143,\n",
       " -0.0033930927231944352,\n",
       " -0.005044212791013969,\n",
       " 0.0005482906645051244,\n",
       " 0.0014803745737577145,\n",
       " 0.019988897914643644,\n",
       " -0.00011748355639085162,\n",
       " -0.005496939261221634,\n",
       " 0.012771905360139613,\n",
       " 0.005981008307008651,\n",
       " -0.0017686036242094971,\n",
       " 0.009975653632379178,\n",
       " 0.007605497405993589,\n",
       " 0.002865184953219746,\n",
       " ...]"
      ]
     },
     "execution_count": 91,
     "metadata": {},
     "output_type": "execute_result"
    }
   ],
   "source": [
    "difference"
   ]
  },
  {
   "cell_type": "code",
   "execution_count": 103,
   "metadata": {
    "colab": {},
    "colab_type": "code",
    "id": "KhqgDFd3FcwB"
   },
   "outputs": [
    {
     "name": "stdout",
     "output_type": "stream",
     "text": [
      "0.14206054745123442\n"
     ]
    }
   ],
   "source": [
    "# Now make a variable called obs_difference, and assign it the result of the mean of our 'apple' variable and the mean of our 'google variable'\n",
    "obs_difference = np.mean(apple)-np.mean(google)\n",
    "\n",
    "# Make this difference absolute with the built-in abs() function. \n",
    "obs_difference = np.abs(obs_difference)\n",
    "\n",
    "# Print out this value; it should be 0.1420605474512291. \n",
    "print(actual)"
   ]
  },
  {
   "cell_type": "markdown",
   "metadata": {
    "colab_type": "text",
    "id": "QUNuuSgDFcwE"
   },
   "source": [
    "## Stage 4 -  Evaluating and concluding\n",
    "### 4a. What is our conclusion?"
   ]
  },
  {
   "cell_type": "code",
   "execution_count": 104,
   "metadata": {
    "colab": {},
    "colab_type": "code",
    "id": "XMQHnqx1FcwF"
   },
   "outputs": [
    {
     "data": {
      "text/plain": [
       "0.0"
      ]
     },
     "execution_count": 104,
     "metadata": {},
     "output_type": "execute_result"
    }
   ],
   "source": [
    "'''\n",
    "What do we know? \n",
    "\n",
    "Recall: The p-value of our observed data is just the proportion of the data given the null that's at least as extreme as that observed data.\n",
    "\n",
    "As a result, we're going to count how many of the differences in our difference list are at least as extreme as our observed difference.\n",
    "\n",
    "If less than or equal to 5% of them are, then we will reject the Null. \n",
    "'''\n",
    "\n",
    "p = np.sum(difference >= obs_difference) / len(difference)\n",
    "p"
   ]
  },
  {
   "cell_type": "markdown",
   "metadata": {
    "colab_type": "text",
    "id": "4RTofY9wFcwI"
   },
   "source": [
    "### 4b. What is our decision?\n",
    "So actually, zero differences are at least as extreme as our observed difference!\n",
    "\n",
    "So the p-value of our observed data is 0. \n",
    "\n",
    "It doesn't matter which significance level we pick; our observed data is statistically significant, and we reject the Null.\n",
    "\n",
    "We conclude that platform does impact on ratings. Specifically, we should advise our client to integrate **only Google Play** into their operating system interface. "
   ]
  },
  {
   "cell_type": "markdown",
   "metadata": {
    "colab_type": "text",
    "id": "Cu_eh7fTFcwJ"
   },
   "source": [
    "### 4c. Other statistical tests, and next steps\n",
    "The test we used here is the Permutation test. This was appropriate because our data were not normally distributed! \n",
    "\n",
    "As we've seen in Professor Spiegelhalter's book, there are actually many different statistical tests, all with different assumptions. How many of these different statistical tests can you remember? How much do you remember about what the appropriate conditions are under which to use them? \n",
    "\n",
    "Make a note of your answers to these questions, and discuss them with your mentor at your next call. \n"
   ]
  }
 ],
 "metadata": {
  "colab": {
   "collapsed_sections": [
    "5fbRq2MZFcvq",
    "4RTofY9wFcwI",
    "Cu_eh7fTFcwJ"
   ],
   "name": "Springboard Apps project - Tier 3 - Complete.ipynb",
   "provenance": []
  },
  "kernelspec": {
   "display_name": "Python 3 (ipykernel)",
   "language": "python",
   "name": "python3"
  },
  "language_info": {
   "codemirror_mode": {
    "name": "ipython",
    "version": 3
   },
   "file_extension": ".py",
   "mimetype": "text/x-python",
   "name": "python",
   "nbconvert_exporter": "python",
   "pygments_lexer": "ipython3",
   "version": "3.9.7"
  }
 },
 "nbformat": 4,
 "nbformat_minor": 1
}
